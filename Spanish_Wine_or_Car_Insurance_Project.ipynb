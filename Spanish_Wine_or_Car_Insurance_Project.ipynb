{
  "nbformat": 4,
  "nbformat_minor": 0,
  "metadata": {
    "colab": {
      "provenance": [],
      "mount_file_id": "1GNdetRgZ73ZhB4zXllRCXJyMRWmXjgc3",
      "authorship_tag": "ABX9TyPS2aS0P5XrSngwko9nGrpB",
      "include_colab_link": true
    },
    "kernelspec": {
      "name": "python3",
      "display_name": "Python 3"
    },
    "language_info": {
      "name": "python"
    }
  },
  "cells": [
    {
      "cell_type": "markdown",
      "metadata": {
        "id": "view-in-github",
        "colab_type": "text"
      },
      "source": [
        "<a href=\"https://colab.research.google.com/github/HeatherAnnFoster/Spanish-Wine-Car-Insurance/blob/main/Spanish_Wine_or_Car_Insurance_Project.ipynb\" target=\"_parent\"><img src=\"https://colab.research.google.com/assets/colab-badge.svg\" alt=\"Open In Colab\"/></a>"
      ]
    },
    {
      "cell_type": "markdown",
      "source": [
        "Create a notebook where you have uploaded and shown the .head() of each of your data sets. For each of the proposed datasets, include the following information in text cells:\n",
        "\n",
        "First choice: dataset 1\n",
        "1. Source of data\n",
        "\n",
        "2. Brief description of data\n",
        "\n",
        "3. What is the target?\n",
        "\n",
        "4. What does one row represent? (A person?  A business?  An event? A product?)\n",
        "\n",
        "5. Is this a classification or regression problem?\n",
        "\n",
        "6. How many features does the data have?\n",
        "\n",
        "7. How many rows are in the dataset?\n",
        "\n",
        "8. What, if any, challenges do you foresee in cleaning, exploring, or modeling this dataset?"
      ],
      "metadata": {
        "id": "UF6UxuSmgqhR"
      }
    },
    {
      "cell_type": "code",
      "execution_count": 10,
      "metadata": {
        "colab": {
          "base_uri": "https://localhost:8080/",
          "height": 206
        },
        "id": "GfkocpatgolL",
        "outputId": "73cbacc7-55cc-46aa-a1f1-95fabc8a4d12"
      },
      "outputs": [
        {
          "output_type": "execute_result",
          "data": {
            "text/plain": [
              "          winery           wine  year  rating  num_reviews country  \\\n",
              "0  Teso La Monja          Tinto  2013     4.9           58  Espana   \n",
              "1         Artadi  Vina El Pison  2018     4.9           31  Espana   \n",
              "2   Vega Sicilia          Unico  2009     4.8         1793  Espana   \n",
              "3   Vega Sicilia          Unico  1999     4.8         1705  Espana   \n",
              "4   Vega Sicilia          Unico  1996     4.8         1309  Espana   \n",
              "\n",
              "             region   price                  type  body  acidity  \n",
              "0              Toro  995.00              Toro Red   5.0      3.0  \n",
              "1    Vino de Espana  313.50           Tempranillo   4.0      2.0  \n",
              "2  Ribera del Duero  324.95  Ribera Del Duero Red   5.0      3.0  \n",
              "3  Ribera del Duero  692.96  Ribera Del Duero Red   5.0      3.0  \n",
              "4  Ribera del Duero  778.06  Ribera Del Duero Red   5.0      3.0  "
            ],
            "text/html": [
              "\n",
              "  <div id=\"df-481ef3a5-3a56-4d93-87ca-76f893eaff22\">\n",
              "    <div class=\"colab-df-container\">\n",
              "      <div>\n",
              "<style scoped>\n",
              "    .dataframe tbody tr th:only-of-type {\n",
              "        vertical-align: middle;\n",
              "    }\n",
              "\n",
              "    .dataframe tbody tr th {\n",
              "        vertical-align: top;\n",
              "    }\n",
              "\n",
              "    .dataframe thead th {\n",
              "        text-align: right;\n",
              "    }\n",
              "</style>\n",
              "<table border=\"1\" class=\"dataframe\">\n",
              "  <thead>\n",
              "    <tr style=\"text-align: right;\">\n",
              "      <th></th>\n",
              "      <th>winery</th>\n",
              "      <th>wine</th>\n",
              "      <th>year</th>\n",
              "      <th>rating</th>\n",
              "      <th>num_reviews</th>\n",
              "      <th>country</th>\n",
              "      <th>region</th>\n",
              "      <th>price</th>\n",
              "      <th>type</th>\n",
              "      <th>body</th>\n",
              "      <th>acidity</th>\n",
              "    </tr>\n",
              "  </thead>\n",
              "  <tbody>\n",
              "    <tr>\n",
              "      <th>0</th>\n",
              "      <td>Teso La Monja</td>\n",
              "      <td>Tinto</td>\n",
              "      <td>2013</td>\n",
              "      <td>4.9</td>\n",
              "      <td>58</td>\n",
              "      <td>Espana</td>\n",
              "      <td>Toro</td>\n",
              "      <td>995.00</td>\n",
              "      <td>Toro Red</td>\n",
              "      <td>5.0</td>\n",
              "      <td>3.0</td>\n",
              "    </tr>\n",
              "    <tr>\n",
              "      <th>1</th>\n",
              "      <td>Artadi</td>\n",
              "      <td>Vina El Pison</td>\n",
              "      <td>2018</td>\n",
              "      <td>4.9</td>\n",
              "      <td>31</td>\n",
              "      <td>Espana</td>\n",
              "      <td>Vino de Espana</td>\n",
              "      <td>313.50</td>\n",
              "      <td>Tempranillo</td>\n",
              "      <td>4.0</td>\n",
              "      <td>2.0</td>\n",
              "    </tr>\n",
              "    <tr>\n",
              "      <th>2</th>\n",
              "      <td>Vega Sicilia</td>\n",
              "      <td>Unico</td>\n",
              "      <td>2009</td>\n",
              "      <td>4.8</td>\n",
              "      <td>1793</td>\n",
              "      <td>Espana</td>\n",
              "      <td>Ribera del Duero</td>\n",
              "      <td>324.95</td>\n",
              "      <td>Ribera Del Duero Red</td>\n",
              "      <td>5.0</td>\n",
              "      <td>3.0</td>\n",
              "    </tr>\n",
              "    <tr>\n",
              "      <th>3</th>\n",
              "      <td>Vega Sicilia</td>\n",
              "      <td>Unico</td>\n",
              "      <td>1999</td>\n",
              "      <td>4.8</td>\n",
              "      <td>1705</td>\n",
              "      <td>Espana</td>\n",
              "      <td>Ribera del Duero</td>\n",
              "      <td>692.96</td>\n",
              "      <td>Ribera Del Duero Red</td>\n",
              "      <td>5.0</td>\n",
              "      <td>3.0</td>\n",
              "    </tr>\n",
              "    <tr>\n",
              "      <th>4</th>\n",
              "      <td>Vega Sicilia</td>\n",
              "      <td>Unico</td>\n",
              "      <td>1996</td>\n",
              "      <td>4.8</td>\n",
              "      <td>1309</td>\n",
              "      <td>Espana</td>\n",
              "      <td>Ribera del Duero</td>\n",
              "      <td>778.06</td>\n",
              "      <td>Ribera Del Duero Red</td>\n",
              "      <td>5.0</td>\n",
              "      <td>3.0</td>\n",
              "    </tr>\n",
              "  </tbody>\n",
              "</table>\n",
              "</div>\n",
              "      <button class=\"colab-df-convert\" onclick=\"convertToInteractive('df-481ef3a5-3a56-4d93-87ca-76f893eaff22')\"\n",
              "              title=\"Convert this dataframe to an interactive table.\"\n",
              "              style=\"display:none;\">\n",
              "        \n",
              "  <svg xmlns=\"http://www.w3.org/2000/svg\" height=\"24px\"viewBox=\"0 0 24 24\"\n",
              "       width=\"24px\">\n",
              "    <path d=\"M0 0h24v24H0V0z\" fill=\"none\"/>\n",
              "    <path d=\"M18.56 5.44l.94 2.06.94-2.06 2.06-.94-2.06-.94-.94-2.06-.94 2.06-2.06.94zm-11 1L8.5 8.5l.94-2.06 2.06-.94-2.06-.94L8.5 2.5l-.94 2.06-2.06.94zm10 10l.94 2.06.94-2.06 2.06-.94-2.06-.94-.94-2.06-.94 2.06-2.06.94z\"/><path d=\"M17.41 7.96l-1.37-1.37c-.4-.4-.92-.59-1.43-.59-.52 0-1.04.2-1.43.59L10.3 9.45l-7.72 7.72c-.78.78-.78 2.05 0 2.83L4 21.41c.39.39.9.59 1.41.59.51 0 1.02-.2 1.41-.59l7.78-7.78 2.81-2.81c.8-.78.8-2.07 0-2.86zM5.41 20L4 18.59l7.72-7.72 1.47 1.35L5.41 20z\"/>\n",
              "  </svg>\n",
              "      </button>\n",
              "      \n",
              "  <style>\n",
              "    .colab-df-container {\n",
              "      display:flex;\n",
              "      flex-wrap:wrap;\n",
              "      gap: 12px;\n",
              "    }\n",
              "\n",
              "    .colab-df-convert {\n",
              "      background-color: #E8F0FE;\n",
              "      border: none;\n",
              "      border-radius: 50%;\n",
              "      cursor: pointer;\n",
              "      display: none;\n",
              "      fill: #1967D2;\n",
              "      height: 32px;\n",
              "      padding: 0 0 0 0;\n",
              "      width: 32px;\n",
              "    }\n",
              "\n",
              "    .colab-df-convert:hover {\n",
              "      background-color: #E2EBFA;\n",
              "      box-shadow: 0px 1px 2px rgba(60, 64, 67, 0.3), 0px 1px 3px 1px rgba(60, 64, 67, 0.15);\n",
              "      fill: #174EA6;\n",
              "    }\n",
              "\n",
              "    [theme=dark] .colab-df-convert {\n",
              "      background-color: #3B4455;\n",
              "      fill: #D2E3FC;\n",
              "    }\n",
              "\n",
              "    [theme=dark] .colab-df-convert:hover {\n",
              "      background-color: #434B5C;\n",
              "      box-shadow: 0px 1px 3px 1px rgba(0, 0, 0, 0.15);\n",
              "      filter: drop-shadow(0px 1px 2px rgba(0, 0, 0, 0.3));\n",
              "      fill: #FFFFFF;\n",
              "    }\n",
              "  </style>\n",
              "\n",
              "      <script>\n",
              "        const buttonEl =\n",
              "          document.querySelector('#df-481ef3a5-3a56-4d93-87ca-76f893eaff22 button.colab-df-convert');\n",
              "        buttonEl.style.display =\n",
              "          google.colab.kernel.accessAllowed ? 'block' : 'none';\n",
              "\n",
              "        async function convertToInteractive(key) {\n",
              "          const element = document.querySelector('#df-481ef3a5-3a56-4d93-87ca-76f893eaff22');\n",
              "          const dataTable =\n",
              "            await google.colab.kernel.invokeFunction('convertToInteractive',\n",
              "                                                     [key], {});\n",
              "          if (!dataTable) return;\n",
              "\n",
              "          const docLinkHtml = 'Like what you see? Visit the ' +\n",
              "            '<a target=\"_blank\" href=https://colab.research.google.com/notebooks/data_table.ipynb>data table notebook</a>'\n",
              "            + ' to learn more about interactive tables.';\n",
              "          element.innerHTML = '';\n",
              "          dataTable['output_type'] = 'display_data';\n",
              "          await google.colab.output.renderOutput(dataTable, element);\n",
              "          const docLink = document.createElement('div');\n",
              "          docLink.innerHTML = docLinkHtml;\n",
              "          element.appendChild(docLink);\n",
              "        }\n",
              "      </script>\n",
              "    </div>\n",
              "  </div>\n",
              "  "
            ]
          },
          "metadata": {},
          "execution_count": 10
        }
      ],
      "source": [
        "import pandas as pd\n",
        "df = pd.read_csv('/content/Project 2.A.csv')\n",
        "df.head()"
      ]
    },
    {
      "cell_type": "markdown",
      "source": [
        "#**Source of Data**"
      ],
      "metadata": {
        "id": "eBa67FHsk26D"
      }
    },
    {
      "cell_type": "markdown",
      "source": [
        "Kaggle.com"
      ],
      "metadata": {
        "id": "-LO8hvoflmjZ"
      }
    },
    {
      "cell_type": "markdown",
      "source": [
        "#**Brief Description of the Data**"
      ],
      "metadata": {
        "id": "K6zMgzO3j-Iv"
      }
    },
    {
      "cell_type": "markdown",
      "source": [
        "Context\n",
        "\n",
        "This dataset is related to red variants of spanish wines. The dataset describes several popularity and description metrics their effect on it's quality. The datasets can be used for classification or regression tasks. The classes are ordered and not balanced (i.e. the quality goes from almost 5 to 4 points). The task is to predict either the quality of wine or the prices using the given data.\n",
        "\n",
        "Content\n",
        "\n",
        "The dataset contains 7500 different types of red wines from Spain with 11 features that describe their price, rating, and even some flavor description. The was collected by me using web scraping from different sources (from wine specialized pages to supermarkets)."
      ],
      "metadata": {
        "id": "78jfodxMlQXb"
      }
    },
    {
      "cell_type": "markdown",
      "source": [
        "#**Target**"
      ],
      "metadata": {
        "id": "fXfNY2c6lHhR"
      }
    },
    {
      "cell_type": "markdown",
      "source": [
        "There are two possible targets for this dataset.  I will be looking at the quality of the wine of the Rating column for my target."
      ],
      "metadata": {
        "id": "zgTSQ9gvlG-t"
      }
    },
    {
      "cell_type": "markdown",
      "source": [
        "#**What does one row represent? (A person? A business? An event? A product?)**"
      ],
      "metadata": {
        "id": "PBCPjdXjmVpx"
      }
    },
    {
      "cell_type": "markdown",
      "source": [
        "The Winery, Year, Country, and Region represents the business or winery that the wine was produced in.  The Wine, Type, Body, and Acidity represents the wine itself or the product.  The Rating, Number of Reviews, and Price represent the sellability of the wine which would also be tied to the business aspect of the dataset."
      ],
      "metadata": {
        "id": "rKnuDzmBnsk2"
      }
    },
    {
      "cell_type": "markdown",
      "source": [
        "#**Is this a classification or regression problem?**"
      ],
      "metadata": {
        "id": "ExAaX4-bppi2"
      }
    },
    {
      "cell_type": "markdown",
      "source": [
        "Because the target is from the rating column, it is an ordinal column.  The values are 0 to 5, set up as 5 being the best and 0 being the worst.  For this column, I would use an ordinal transformer while I am analyzing this dataset.  It is classification model."
      ],
      "metadata": {
        "id": "y6zBnGxFqTNC"
      }
    },
    {
      "cell_type": "markdown",
      "source": [
        "#**How many features does the data have?**"
      ],
      "metadata": {
        "id": "0tf0e4umqr4_"
      }
    },
    {
      "cell_type": "markdown",
      "source": [
        "There are 11 features."
      ],
      "metadata": {
        "id": "sBRzEwnHqx_m"
      }
    },
    {
      "cell_type": "code",
      "source": [
        "df.shape"
      ],
      "metadata": {
        "colab": {
          "base_uri": "https://localhost:8080/"
        },
        "id": "veHvuz8puk5s",
        "outputId": "46f80b3b-ce8a-494c-949a-018c1eb1c5ce"
      },
      "execution_count": 4,
      "outputs": [
        {
          "output_type": "execute_result",
          "data": {
            "text/plain": [
              "(7500, 11)"
            ]
          },
          "metadata": {},
          "execution_count": 4
        }
      ]
    },
    {
      "cell_type": "markdown",
      "source": [
        "#**How many rows are in the dataset?**"
      ],
      "metadata": {
        "id": "hDhSlDPfutL1"
      }
    },
    {
      "cell_type": "markdown",
      "source": [
        "There are 7,500 rows."
      ],
      "metadata": {
        "id": "WGmNhc5ku5FO"
      }
    },
    {
      "cell_type": "markdown",
      "source": [
        "#**What, if any, challenges do you foresee in cleaning, exploring, or modeling this dataset?**"
      ],
      "metadata": {
        "id": "YurJA1VZu76t"
      }
    },
    {
      "cell_type": "markdown",
      "source": [
        "I foresee duplicates, missing data and needing multiple preprocessors for various models on different columns.  I also think I will have multiple visualizations to see and show what different columns would look like when compared to others.  This might help determine what I need to tune later."
      ],
      "metadata": {
        "id": "TqH2tVIMvGrU"
      }
    },
    {
      "cell_type": "code",
      "source": [
        "import pandas as pd\n",
        "df = pd.read_excel('/content/Project 2B.xlsx')\n",
        "df.head()"
      ],
      "metadata": {
        "id": "zGmh1oQK2T7W"
      },
      "execution_count": null,
      "outputs": []
    },
    {
      "cell_type": "markdown",
      "source": [
        "#**Source of Data**"
      ],
      "metadata": {
        "id": "ysqNm3uq2Oqv"
      }
    },
    {
      "cell_type": "markdown",
      "source": [
        "Kaggle.com"
      ],
      "metadata": {
        "id": "ctxg9FR62bwx"
      }
    },
    {
      "cell_type": "markdown",
      "source": [
        "#**Brief Description of the Data**"
      ],
      "metadata": {
        "id": "k3ltzHb02fUC"
      }
    },
    {
      "cell_type": "markdown",
      "source": [
        "Context\n",
        "\n",
        "The company has shared its annual car insurance data. Now, you have to find out the real customer behaviors over the data.\n",
        "\n",
        "Content\n",
        "\n",
        "The columns are resembling practical world features. The outcome column indicates 1 if a customer has claimed his/her loan else 0. The data has 19 features from there 18 of them are corresponding logs which were taken by the company."
      ],
      "metadata": {
        "id": "Gh3tk95X2whn"
      }
    },
    {
      "cell_type": "markdown",
      "source": [
        "#**Target**"
      ],
      "metadata": {
        "id": "qIjAM7vZ22kK"
      }
    },
    {
      "cell_type": "markdown",
      "source": [
        "The target is whether the customer claimed their loan or not. If they made a claim, there is a 1 in the \"Outcome\" column. If they didn't make a claim, there is a 0 in the \"Outcome\" column."
      ],
      "metadata": {
        "id": "8wGSgKF_29NH"
      }
    },
    {
      "cell_type": "markdown",
      "source": [
        "#**What does one row represent? (A person? A business? An event? A product?)**"
      ],
      "metadata": {
        "id": "immsZAjt3DBP"
      }
    },
    {
      "cell_type": "markdown",
      "source": [
        "The ID, Age, Gender, Race, Married, and Children columns all represent a person. The Driving Experience, Speeding Violations, DUI, and Past Accidents columns all represent the customer's responsibility while driving the vehicle. The Income and Credit Score columns represent the fincancial ability of the customer. The Vehicle Year, Postal Code, Annual Milage, and Vehicle Type represnt the vehicle and the number of miles the vehicle is driven."
      ],
      "metadata": {
        "id": "TySQDpZu3MYK"
      }
    },
    {
      "cell_type": "markdown",
      "source": [
        "#**Is this a classification or regression problem?**"
      ],
      "metadata": {
        "id": "TJG2a-tP3TDo"
      }
    },
    {
      "cell_type": "markdown",
      "source": [
        "Because the target is from the Outcomes column, it is a nomimal column. The values are 0 and 1, meaning no and yes. For this column, I would use OneHotEncoder while I am analyzing this dataset. It is classification model."
      ],
      "metadata": {
        "id": "Hto8NjEt3cpS"
      }
    },
    {
      "cell_type": "markdown",
      "source": [
        "#**How many features does the data have?**"
      ],
      "metadata": {
        "id": "pVOoHLGL3fwp"
      }
    },
    {
      "cell_type": "markdown",
      "source": [
        "There are 19 features"
      ],
      "metadata": {
        "id": "mPiPI0hD3jY8"
      }
    },
    {
      "cell_type": "code",
      "source": [
        "df.shape"
      ],
      "metadata": {
        "id": "7ki6TXhc3m8O"
      },
      "execution_count": null,
      "outputs": []
    },
    {
      "cell_type": "markdown",
      "source": [
        "**How many rows are in the dataset?**"
      ],
      "metadata": {
        "id": "B5E_QWbJ3lu2"
      }
    },
    {
      "cell_type": "markdown",
      "source": [
        "There are 10,000 rows."
      ],
      "metadata": {
        "id": "NUPkJXwp3uQt"
      }
    },
    {
      "cell_type": "markdown",
      "source": [
        "#**What, if any, challenges do you foresee in cleaning, exploring, or modeling this dataset?**"
      ],
      "metadata": {
        "id": "KffDHpwU3xQ8"
      }
    },
    {
      "cell_type": "markdown",
      "source": [
        "I foresee duplicates, missing data and needing multiple preprocessors for various models on different columns. I also think I will have multiple visualizations to see and show what different columns would look like when compared to others. This might help determine what I need to tune later."
      ],
      "metadata": {
        "id": "GgRX6hpK33oU"
      }
    }
  ]
}