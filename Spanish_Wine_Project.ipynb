{
  "nbformat": 4,
  "nbformat_minor": 0,
  "metadata": {
    "colab": {
      "provenance": [],
      "mount_file_id": "1GNdetRgZ73ZhB4zXllRCXJyMRWmXjgc3",
      "authorship_tag": "ABX9TyPVQLC6zsSY/kHgzcNG4BMb",
      "include_colab_link": true
    },
    "kernelspec": {
      "name": "python3",
      "display_name": "Python 3"
    },
    "language_info": {
      "name": "python"
    }
  },
  "cells": [
    {
      "cell_type": "markdown",
      "metadata": {
        "id": "view-in-github",
        "colab_type": "text"
      },
      "source": [
        "<a href=\"https://colab.research.google.com/github/HeatherAnnFoster/Spanish-Wine-Car-Insurance/blob/main/Spanish_Wine_Project.ipynb\" target=\"_parent\"><img src=\"https://colab.research.google.com/assets/colab-badge.svg\" alt=\"Open In Colab\"/></a>"
      ]
    },
    {
      "cell_type": "code",
      "execution_count": 215,
      "metadata": {
        "colab": {
          "base_uri": "https://localhost:8080/",
          "height": 206
        },
        "id": "GfkocpatgolL",
        "outputId": "aff800d0-e857-4509-f2e6-ac8d1558518c"
      },
      "outputs": [
        {
          "output_type": "execute_result",
          "data": {
            "text/plain": [
              "          winery           wine  year  rating  num_reviews country  \\\n",
              "0  Teso La Monja          Tinto  2013     4.9           58  Espana   \n",
              "1         Artadi  Vina El Pison  2018     4.9           31  Espana   \n",
              "2   Vega Sicilia          Unico  2009     4.8         1793  Espana   \n",
              "3   Vega Sicilia          Unico  1999     4.8         1705  Espana   \n",
              "4   Vega Sicilia          Unico  1996     4.8         1309  Espana   \n",
              "\n",
              "             region   price                  type  body  acidity  \n",
              "0              Toro  995.00              Toro Red   5.0      3.0  \n",
              "1    Vino de Espana  313.50           Tempranillo   4.0      2.0  \n",
              "2  Ribera del Duero  324.95  Ribera Del Duero Red   5.0      3.0  \n",
              "3  Ribera del Duero  692.96  Ribera Del Duero Red   5.0      3.0  \n",
              "4  Ribera del Duero  778.06  Ribera Del Duero Red   5.0      3.0  "
            ],
            "text/html": [
              "\n",
              "  <div id=\"df-ef4f1b2a-8c2f-44b1-8781-ed98ef439171\">\n",
              "    <div class=\"colab-df-container\">\n",
              "      <div>\n",
              "<style scoped>\n",
              "    .dataframe tbody tr th:only-of-type {\n",
              "        vertical-align: middle;\n",
              "    }\n",
              "\n",
              "    .dataframe tbody tr th {\n",
              "        vertical-align: top;\n",
              "    }\n",
              "\n",
              "    .dataframe thead th {\n",
              "        text-align: right;\n",
              "    }\n",
              "</style>\n",
              "<table border=\"1\" class=\"dataframe\">\n",
              "  <thead>\n",
              "    <tr style=\"text-align: right;\">\n",
              "      <th></th>\n",
              "      <th>winery</th>\n",
              "      <th>wine</th>\n",
              "      <th>year</th>\n",
              "      <th>rating</th>\n",
              "      <th>num_reviews</th>\n",
              "      <th>country</th>\n",
              "      <th>region</th>\n",
              "      <th>price</th>\n",
              "      <th>type</th>\n",
              "      <th>body</th>\n",
              "      <th>acidity</th>\n",
              "    </tr>\n",
              "  </thead>\n",
              "  <tbody>\n",
              "    <tr>\n",
              "      <th>0</th>\n",
              "      <td>Teso La Monja</td>\n",
              "      <td>Tinto</td>\n",
              "      <td>2013</td>\n",
              "      <td>4.9</td>\n",
              "      <td>58</td>\n",
              "      <td>Espana</td>\n",
              "      <td>Toro</td>\n",
              "      <td>995.00</td>\n",
              "      <td>Toro Red</td>\n",
              "      <td>5.0</td>\n",
              "      <td>3.0</td>\n",
              "    </tr>\n",
              "    <tr>\n",
              "      <th>1</th>\n",
              "      <td>Artadi</td>\n",
              "      <td>Vina El Pison</td>\n",
              "      <td>2018</td>\n",
              "      <td>4.9</td>\n",
              "      <td>31</td>\n",
              "      <td>Espana</td>\n",
              "      <td>Vino de Espana</td>\n",
              "      <td>313.50</td>\n",
              "      <td>Tempranillo</td>\n",
              "      <td>4.0</td>\n",
              "      <td>2.0</td>\n",
              "    </tr>\n",
              "    <tr>\n",
              "      <th>2</th>\n",
              "      <td>Vega Sicilia</td>\n",
              "      <td>Unico</td>\n",
              "      <td>2009</td>\n",
              "      <td>4.8</td>\n",
              "      <td>1793</td>\n",
              "      <td>Espana</td>\n",
              "      <td>Ribera del Duero</td>\n",
              "      <td>324.95</td>\n",
              "      <td>Ribera Del Duero Red</td>\n",
              "      <td>5.0</td>\n",
              "      <td>3.0</td>\n",
              "    </tr>\n",
              "    <tr>\n",
              "      <th>3</th>\n",
              "      <td>Vega Sicilia</td>\n",
              "      <td>Unico</td>\n",
              "      <td>1999</td>\n",
              "      <td>4.8</td>\n",
              "      <td>1705</td>\n",
              "      <td>Espana</td>\n",
              "      <td>Ribera del Duero</td>\n",
              "      <td>692.96</td>\n",
              "      <td>Ribera Del Duero Red</td>\n",
              "      <td>5.0</td>\n",
              "      <td>3.0</td>\n",
              "    </tr>\n",
              "    <tr>\n",
              "      <th>4</th>\n",
              "      <td>Vega Sicilia</td>\n",
              "      <td>Unico</td>\n",
              "      <td>1996</td>\n",
              "      <td>4.8</td>\n",
              "      <td>1309</td>\n",
              "      <td>Espana</td>\n",
              "      <td>Ribera del Duero</td>\n",
              "      <td>778.06</td>\n",
              "      <td>Ribera Del Duero Red</td>\n",
              "      <td>5.0</td>\n",
              "      <td>3.0</td>\n",
              "    </tr>\n",
              "  </tbody>\n",
              "</table>\n",
              "</div>\n",
              "      <button class=\"colab-df-convert\" onclick=\"convertToInteractive('df-ef4f1b2a-8c2f-44b1-8781-ed98ef439171')\"\n",
              "              title=\"Convert this dataframe to an interactive table.\"\n",
              "              style=\"display:none;\">\n",
              "        \n",
              "  <svg xmlns=\"http://www.w3.org/2000/svg\" height=\"24px\"viewBox=\"0 0 24 24\"\n",
              "       width=\"24px\">\n",
              "    <path d=\"M0 0h24v24H0V0z\" fill=\"none\"/>\n",
              "    <path d=\"M18.56 5.44l.94 2.06.94-2.06 2.06-.94-2.06-.94-.94-2.06-.94 2.06-2.06.94zm-11 1L8.5 8.5l.94-2.06 2.06-.94-2.06-.94L8.5 2.5l-.94 2.06-2.06.94zm10 10l.94 2.06.94-2.06 2.06-.94-2.06-.94-.94-2.06-.94 2.06-2.06.94z\"/><path d=\"M17.41 7.96l-1.37-1.37c-.4-.4-.92-.59-1.43-.59-.52 0-1.04.2-1.43.59L10.3 9.45l-7.72 7.72c-.78.78-.78 2.05 0 2.83L4 21.41c.39.39.9.59 1.41.59.51 0 1.02-.2 1.41-.59l7.78-7.78 2.81-2.81c.8-.78.8-2.07 0-2.86zM5.41 20L4 18.59l7.72-7.72 1.47 1.35L5.41 20z\"/>\n",
              "  </svg>\n",
              "      </button>\n",
              "      \n",
              "  <style>\n",
              "    .colab-df-container {\n",
              "      display:flex;\n",
              "      flex-wrap:wrap;\n",
              "      gap: 12px;\n",
              "    }\n",
              "\n",
              "    .colab-df-convert {\n",
              "      background-color: #E8F0FE;\n",
              "      border: none;\n",
              "      border-radius: 50%;\n",
              "      cursor: pointer;\n",
              "      display: none;\n",
              "      fill: #1967D2;\n",
              "      height: 32px;\n",
              "      padding: 0 0 0 0;\n",
              "      width: 32px;\n",
              "    }\n",
              "\n",
              "    .colab-df-convert:hover {\n",
              "      background-color: #E2EBFA;\n",
              "      box-shadow: 0px 1px 2px rgba(60, 64, 67, 0.3), 0px 1px 3px 1px rgba(60, 64, 67, 0.15);\n",
              "      fill: #174EA6;\n",
              "    }\n",
              "\n",
              "    [theme=dark] .colab-df-convert {\n",
              "      background-color: #3B4455;\n",
              "      fill: #D2E3FC;\n",
              "    }\n",
              "\n",
              "    [theme=dark] .colab-df-convert:hover {\n",
              "      background-color: #434B5C;\n",
              "      box-shadow: 0px 1px 3px 1px rgba(0, 0, 0, 0.15);\n",
              "      filter: drop-shadow(0px 1px 2px rgba(0, 0, 0, 0.3));\n",
              "      fill: #FFFFFF;\n",
              "    }\n",
              "  </style>\n",
              "\n",
              "      <script>\n",
              "        const buttonEl =\n",
              "          document.querySelector('#df-ef4f1b2a-8c2f-44b1-8781-ed98ef439171 button.colab-df-convert');\n",
              "        buttonEl.style.display =\n",
              "          google.colab.kernel.accessAllowed ? 'block' : 'none';\n",
              "\n",
              "        async function convertToInteractive(key) {\n",
              "          const element = document.querySelector('#df-ef4f1b2a-8c2f-44b1-8781-ed98ef439171');\n",
              "          const dataTable =\n",
              "            await google.colab.kernel.invokeFunction('convertToInteractive',\n",
              "                                                     [key], {});\n",
              "          if (!dataTable) return;\n",
              "\n",
              "          const docLinkHtml = 'Like what you see? Visit the ' +\n",
              "            '<a target=\"_blank\" href=https://colab.research.google.com/notebooks/data_table.ipynb>data table notebook</a>'\n",
              "            + ' to learn more about interactive tables.';\n",
              "          element.innerHTML = '';\n",
              "          dataTable['output_type'] = 'display_data';\n",
              "          await google.colab.output.renderOutput(dataTable, element);\n",
              "          const docLink = document.createElement('div');\n",
              "          docLink.innerHTML = docLinkHtml;\n",
              "          element.appendChild(docLink);\n",
              "        }\n",
              "      </script>\n",
              "    </div>\n",
              "  </div>\n",
              "  "
            ]
          },
          "metadata": {},
          "execution_count": 215
        }
      ],
      "source": [
        "import pandas as pd\n",
        "import seaborn as sns\n",
        "\n",
        "import matplotlib.pyplot as plt\n",
        "\n",
        "df = pd.read_csv('/content/Project 2.A.csv')\n",
        "df.head()"
      ]
    },
    {
      "cell_type": "markdown",
      "source": [
        "#**Source of Data**"
      ],
      "metadata": {
        "id": "eBa67FHsk26D"
      }
    },
    {
      "cell_type": "markdown",
      "source": [
        "Kaggle.com"
      ],
      "metadata": {
        "id": "-LO8hvoflmjZ"
      }
    },
    {
      "cell_type": "markdown",
      "source": [
        "#**Brief Description of the Data**"
      ],
      "metadata": {
        "id": "K6zMgzO3j-Iv"
      }
    },
    {
      "cell_type": "markdown",
      "source": [
        "Context\n",
        "\n",
        "This dataset is related to red variants of spanish wines. The dataset describes several popularity and description metrics their effect on it's quality. The datasets can be used for classification or regression tasks. The classes are ordered and not balanced (i.e. the quality goes from almost 5 to 4 points). The task is to predict either the quality of wine or the prices using the given data.\n",
        "\n",
        "Content\n",
        "\n",
        "The dataset contains 7500 different types of red wines from Spain with 11 features that describe their price, rating, and even some flavor description. The was collected by me using web scraping from different sources (from wine specialized pages to supermarkets)."
      ],
      "metadata": {
        "id": "78jfodxMlQXb"
      }
    },
    {
      "cell_type": "markdown",
      "source": [
        "#**Target**"
      ],
      "metadata": {
        "id": "fXfNY2c6lHhR"
      }
    },
    {
      "cell_type": "markdown",
      "source": [
        "There are two possible targets for this dataset.  I will be looking at the quality of the wine of the Rating column for my target."
      ],
      "metadata": {
        "id": "zgTSQ9gvlG-t"
      }
    },
    {
      "cell_type": "markdown",
      "source": [
        "#**What does one row represent? (A person? A business? An event? A product?)**"
      ],
      "metadata": {
        "id": "PBCPjdXjmVpx"
      }
    },
    {
      "cell_type": "markdown",
      "source": [
        "The Winery, Year, Country, and Region represents the business or winery that the wine was produced in.  The Wine, Type, Body, and Acidity represents the wine itself or the product.  The Rating, Number of Reviews, and Price represent the sellability of the wine which would also be tied to the business aspect of the dataset."
      ],
      "metadata": {
        "id": "rKnuDzmBnsk2"
      }
    },
    {
      "cell_type": "markdown",
      "source": [
        "#**Is this a classification or regression problem?**"
      ],
      "metadata": {
        "id": "ExAaX4-bppi2"
      }
    },
    {
      "cell_type": "markdown",
      "source": [
        "Because the target is from the rating column, it is an ordinal column.  The values are 0 to 5, set up as 5 being the best and 0 being the worst.  For this column, I would use an ordinal transformer while I am analyzing this dataset.  It is classification model."
      ],
      "metadata": {
        "id": "y6zBnGxFqTNC"
      }
    },
    {
      "cell_type": "markdown",
      "source": [
        "#**How many features does the data have?**"
      ],
      "metadata": {
        "id": "0tf0e4umqr4_"
      }
    },
    {
      "cell_type": "markdown",
      "source": [
        "There are 11 features."
      ],
      "metadata": {
        "id": "sBRzEwnHqx_m"
      }
    },
    {
      "cell_type": "code",
      "source": [
        "df.shape"
      ],
      "metadata": {
        "colab": {
          "base_uri": "https://localhost:8080/"
        },
        "id": "veHvuz8puk5s",
        "outputId": "439a3a7f-7021-4c72-9148-b30d324cdda5"
      },
      "execution_count": 216,
      "outputs": [
        {
          "output_type": "execute_result",
          "data": {
            "text/plain": [
              "(7500, 11)"
            ]
          },
          "metadata": {},
          "execution_count": 216
        }
      ]
    },
    {
      "cell_type": "markdown",
      "source": [
        "#**How many rows are in the dataset?**"
      ],
      "metadata": {
        "id": "hDhSlDPfutL1"
      }
    },
    {
      "cell_type": "markdown",
      "source": [
        "There are 7,500 rows."
      ],
      "metadata": {
        "id": "WGmNhc5ku5FO"
      }
    },
    {
      "cell_type": "markdown",
      "source": [
        "#**What, if any, challenges do you foresee in cleaning, exploring, or modeling this dataset?**"
      ],
      "metadata": {
        "id": "YurJA1VZu76t"
      }
    },
    {
      "cell_type": "markdown",
      "source": [
        "I foresee duplicates, missing data and needing multiple preprocessors for various models on different columns.  I also think I will have multiple visualizations to see and show what different columns would look like when compared to others.  This might help determine what I need to tune later."
      ],
      "metadata": {
        "id": "TqH2tVIMvGrU"
      }
    },
    {
      "cell_type": "code",
      "source": [
        "df.info()"
      ],
      "metadata": {
        "colab": {
          "base_uri": "https://localhost:8080/"
        },
        "id": "aBIlASTEZXFf",
        "outputId": "8eb5bb43-efcd-4b7b-c18d-aac675026ae2"
      },
      "execution_count": 217,
      "outputs": [
        {
          "output_type": "stream",
          "name": "stdout",
          "text": [
            "<class 'pandas.core.frame.DataFrame'>\n",
            "RangeIndex: 7500 entries, 0 to 7499\n",
            "Data columns (total 11 columns):\n",
            " #   Column       Non-Null Count  Dtype  \n",
            "---  ------       --------------  -----  \n",
            " 0   winery       7500 non-null   object \n",
            " 1   wine         7500 non-null   object \n",
            " 2   year         7498 non-null   object \n",
            " 3   rating       7500 non-null   float64\n",
            " 4   num_reviews  7500 non-null   int64  \n",
            " 5   country      7500 non-null   object \n",
            " 6   region       7500 non-null   object \n",
            " 7   price        7500 non-null   float64\n",
            " 8   type         6955 non-null   object \n",
            " 9   body         6331 non-null   float64\n",
            " 10  acidity      6331 non-null   float64\n",
            "dtypes: float64(4), int64(1), object(6)\n",
            "memory usage: 644.7+ KB\n"
          ]
        }
      ]
    },
    {
      "cell_type": "code",
      "source": [
        "df.dtypes"
      ],
      "metadata": {
        "colab": {
          "base_uri": "https://localhost:8080/"
        },
        "id": "biFMVqSeZt2q",
        "outputId": "5ef1b048-d80b-4293-9e92-345b5fbe030f"
      },
      "execution_count": 218,
      "outputs": [
        {
          "output_type": "execute_result",
          "data": {
            "text/plain": [
              "winery          object\n",
              "wine            object\n",
              "year            object\n",
              "rating         float64\n",
              "num_reviews      int64\n",
              "country         object\n",
              "region          object\n",
              "price          float64\n",
              "type            object\n",
              "body           float64\n",
              "acidity        float64\n",
              "dtype: object"
            ]
          },
          "metadata": {},
          "execution_count": 218
        }
      ]
    },
    {
      "cell_type": "markdown",
      "source": [
        "#Duplicated Values\n",
        "There are 5,452 duplicated rows.  They will be dropped within the next few boxes."
      ],
      "metadata": {
        "id": "xX1EZQ_LhTMh"
      }
    },
    {
      "cell_type": "code",
      "source": [
        "df.duplicated().sum()"
      ],
      "metadata": {
        "colab": {
          "base_uri": "https://localhost:8080/"
        },
        "id": "Oeoe7Y2PeO-T",
        "outputId": "e2171fb5-f5eb-44cc-9f8a-524c33f54d1d"
      },
      "execution_count": 219,
      "outputs": [
        {
          "output_type": "execute_result",
          "data": {
            "text/plain": [
              "5452"
            ]
          },
          "metadata": {},
          "execution_count": 219
        }
      ]
    },
    {
      "cell_type": "code",
      "source": [
        "df.loc[df.duplicated()]"
      ],
      "metadata": {
        "colab": {
          "base_uri": "https://localhost:8080/",
          "height": 423
        },
        "id": "Dw8Fg3SEaNUl",
        "outputId": "a97207da-36ae-49d2-d675-9b4a251571cc"
      },
      "execution_count": 220,
      "outputs": [
        {
          "output_type": "execute_result",
          "data": {
            "text/plain": [
              "                    winery             wine  year  rating  num_reviews  \\\n",
              "1800        Bodega Tameran       Marmajuelo  2020     4.3           27   \n",
              "2036        Ramon do Casar       Treixadura  2020     4.2          407   \n",
              "2039              Binigrau           Nounat  2020     4.2          404   \n",
              "2050          La Vicalanda          Reserva  2015     4.2          420   \n",
              "2051       Enrique Mendoza       Santa Rosa  2017     4.2          420   \n",
              "...                    ...              ...   ...     ...          ...   \n",
              "7495               Contino          Reserva  2016     4.2          392   \n",
              "7496  Conreria d'Scala Dei    Les Brugueres  2018     4.2          390   \n",
              "7497           Mustiguillo  Finca Terrerazo  2017     4.2          390   \n",
              "7498           Matarromera     Gran Reserva  2011     4.2          389   \n",
              "7499              Sei Solo         Preludio  2016     4.2          388   \n",
              "\n",
              "     country            region  price                  type  body  acidity  \n",
              "1800  Espana      Gran Canaria  29.75                   NaN   NaN      NaN  \n",
              "2036  Espana           Ribeiro  11.95                   NaN   NaN      NaN  \n",
              "2039  Espana          Mallorca  19.90                   NaN   NaN      NaN  \n",
              "2050  Espana             Rioja  17.50             Rioja Red   4.0      3.0  \n",
              "2051  Espana          Alicante  18.90                   Red   4.0      3.0  \n",
              "...      ...               ...    ...                   ...   ...      ...  \n",
              "7495  Espana             Rioja  19.98             Rioja Red   4.0      3.0  \n",
              "7496  Espana          Priorato  16.76           Priorat Red   4.0      3.0  \n",
              "7497  Espana      El Terrerazo  24.45                   Red   4.0      3.0  \n",
              "7498  Espana  Ribera del Duero  64.50  Ribera Del Duero Red   5.0      3.0  \n",
              "7499  Espana  Ribera del Duero  31.63  Ribera Del Duero Red   5.0      3.0  \n",
              "\n",
              "[5452 rows x 11 columns]"
            ],
            "text/html": [
              "\n",
              "  <div id=\"df-02d32b7d-0729-4063-afcd-477f723f65f2\">\n",
              "    <div class=\"colab-df-container\">\n",
              "      <div>\n",
              "<style scoped>\n",
              "    .dataframe tbody tr th:only-of-type {\n",
              "        vertical-align: middle;\n",
              "    }\n",
              "\n",
              "    .dataframe tbody tr th {\n",
              "        vertical-align: top;\n",
              "    }\n",
              "\n",
              "    .dataframe thead th {\n",
              "        text-align: right;\n",
              "    }\n",
              "</style>\n",
              "<table border=\"1\" class=\"dataframe\">\n",
              "  <thead>\n",
              "    <tr style=\"text-align: right;\">\n",
              "      <th></th>\n",
              "      <th>winery</th>\n",
              "      <th>wine</th>\n",
              "      <th>year</th>\n",
              "      <th>rating</th>\n",
              "      <th>num_reviews</th>\n",
              "      <th>country</th>\n",
              "      <th>region</th>\n",
              "      <th>price</th>\n",
              "      <th>type</th>\n",
              "      <th>body</th>\n",
              "      <th>acidity</th>\n",
              "    </tr>\n",
              "  </thead>\n",
              "  <tbody>\n",
              "    <tr>\n",
              "      <th>1800</th>\n",
              "      <td>Bodega Tameran</td>\n",
              "      <td>Marmajuelo</td>\n",
              "      <td>2020</td>\n",
              "      <td>4.3</td>\n",
              "      <td>27</td>\n",
              "      <td>Espana</td>\n",
              "      <td>Gran Canaria</td>\n",
              "      <td>29.75</td>\n",
              "      <td>NaN</td>\n",
              "      <td>NaN</td>\n",
              "      <td>NaN</td>\n",
              "    </tr>\n",
              "    <tr>\n",
              "      <th>2036</th>\n",
              "      <td>Ramon do Casar</td>\n",
              "      <td>Treixadura</td>\n",
              "      <td>2020</td>\n",
              "      <td>4.2</td>\n",
              "      <td>407</td>\n",
              "      <td>Espana</td>\n",
              "      <td>Ribeiro</td>\n",
              "      <td>11.95</td>\n",
              "      <td>NaN</td>\n",
              "      <td>NaN</td>\n",
              "      <td>NaN</td>\n",
              "    </tr>\n",
              "    <tr>\n",
              "      <th>2039</th>\n",
              "      <td>Binigrau</td>\n",
              "      <td>Nounat</td>\n",
              "      <td>2020</td>\n",
              "      <td>4.2</td>\n",
              "      <td>404</td>\n",
              "      <td>Espana</td>\n",
              "      <td>Mallorca</td>\n",
              "      <td>19.90</td>\n",
              "      <td>NaN</td>\n",
              "      <td>NaN</td>\n",
              "      <td>NaN</td>\n",
              "    </tr>\n",
              "    <tr>\n",
              "      <th>2050</th>\n",
              "      <td>La Vicalanda</td>\n",
              "      <td>Reserva</td>\n",
              "      <td>2015</td>\n",
              "      <td>4.2</td>\n",
              "      <td>420</td>\n",
              "      <td>Espana</td>\n",
              "      <td>Rioja</td>\n",
              "      <td>17.50</td>\n",
              "      <td>Rioja Red</td>\n",
              "      <td>4.0</td>\n",
              "      <td>3.0</td>\n",
              "    </tr>\n",
              "    <tr>\n",
              "      <th>2051</th>\n",
              "      <td>Enrique Mendoza</td>\n",
              "      <td>Santa Rosa</td>\n",
              "      <td>2017</td>\n",
              "      <td>4.2</td>\n",
              "      <td>420</td>\n",
              "      <td>Espana</td>\n",
              "      <td>Alicante</td>\n",
              "      <td>18.90</td>\n",
              "      <td>Red</td>\n",
              "      <td>4.0</td>\n",
              "      <td>3.0</td>\n",
              "    </tr>\n",
              "    <tr>\n",
              "      <th>...</th>\n",
              "      <td>...</td>\n",
              "      <td>...</td>\n",
              "      <td>...</td>\n",
              "      <td>...</td>\n",
              "      <td>...</td>\n",
              "      <td>...</td>\n",
              "      <td>...</td>\n",
              "      <td>...</td>\n",
              "      <td>...</td>\n",
              "      <td>...</td>\n",
              "      <td>...</td>\n",
              "    </tr>\n",
              "    <tr>\n",
              "      <th>7495</th>\n",
              "      <td>Contino</td>\n",
              "      <td>Reserva</td>\n",
              "      <td>2016</td>\n",
              "      <td>4.2</td>\n",
              "      <td>392</td>\n",
              "      <td>Espana</td>\n",
              "      <td>Rioja</td>\n",
              "      <td>19.98</td>\n",
              "      <td>Rioja Red</td>\n",
              "      <td>4.0</td>\n",
              "      <td>3.0</td>\n",
              "    </tr>\n",
              "    <tr>\n",
              "      <th>7496</th>\n",
              "      <td>Conreria d'Scala Dei</td>\n",
              "      <td>Les Brugueres</td>\n",
              "      <td>2018</td>\n",
              "      <td>4.2</td>\n",
              "      <td>390</td>\n",
              "      <td>Espana</td>\n",
              "      <td>Priorato</td>\n",
              "      <td>16.76</td>\n",
              "      <td>Priorat Red</td>\n",
              "      <td>4.0</td>\n",
              "      <td>3.0</td>\n",
              "    </tr>\n",
              "    <tr>\n",
              "      <th>7497</th>\n",
              "      <td>Mustiguillo</td>\n",
              "      <td>Finca Terrerazo</td>\n",
              "      <td>2017</td>\n",
              "      <td>4.2</td>\n",
              "      <td>390</td>\n",
              "      <td>Espana</td>\n",
              "      <td>El Terrerazo</td>\n",
              "      <td>24.45</td>\n",
              "      <td>Red</td>\n",
              "      <td>4.0</td>\n",
              "      <td>3.0</td>\n",
              "    </tr>\n",
              "    <tr>\n",
              "      <th>7498</th>\n",
              "      <td>Matarromera</td>\n",
              "      <td>Gran Reserva</td>\n",
              "      <td>2011</td>\n",
              "      <td>4.2</td>\n",
              "      <td>389</td>\n",
              "      <td>Espana</td>\n",
              "      <td>Ribera del Duero</td>\n",
              "      <td>64.50</td>\n",
              "      <td>Ribera Del Duero Red</td>\n",
              "      <td>5.0</td>\n",
              "      <td>3.0</td>\n",
              "    </tr>\n",
              "    <tr>\n",
              "      <th>7499</th>\n",
              "      <td>Sei Solo</td>\n",
              "      <td>Preludio</td>\n",
              "      <td>2016</td>\n",
              "      <td>4.2</td>\n",
              "      <td>388</td>\n",
              "      <td>Espana</td>\n",
              "      <td>Ribera del Duero</td>\n",
              "      <td>31.63</td>\n",
              "      <td>Ribera Del Duero Red</td>\n",
              "      <td>5.0</td>\n",
              "      <td>3.0</td>\n",
              "    </tr>\n",
              "  </tbody>\n",
              "</table>\n",
              "<p>5452 rows × 11 columns</p>\n",
              "</div>\n",
              "      <button class=\"colab-df-convert\" onclick=\"convertToInteractive('df-02d32b7d-0729-4063-afcd-477f723f65f2')\"\n",
              "              title=\"Convert this dataframe to an interactive table.\"\n",
              "              style=\"display:none;\">\n",
              "        \n",
              "  <svg xmlns=\"http://www.w3.org/2000/svg\" height=\"24px\"viewBox=\"0 0 24 24\"\n",
              "       width=\"24px\">\n",
              "    <path d=\"M0 0h24v24H0V0z\" fill=\"none\"/>\n",
              "    <path d=\"M18.56 5.44l.94 2.06.94-2.06 2.06-.94-2.06-.94-.94-2.06-.94 2.06-2.06.94zm-11 1L8.5 8.5l.94-2.06 2.06-.94-2.06-.94L8.5 2.5l-.94 2.06-2.06.94zm10 10l.94 2.06.94-2.06 2.06-.94-2.06-.94-.94-2.06-.94 2.06-2.06.94z\"/><path d=\"M17.41 7.96l-1.37-1.37c-.4-.4-.92-.59-1.43-.59-.52 0-1.04.2-1.43.59L10.3 9.45l-7.72 7.72c-.78.78-.78 2.05 0 2.83L4 21.41c.39.39.9.59 1.41.59.51 0 1.02-.2 1.41-.59l7.78-7.78 2.81-2.81c.8-.78.8-2.07 0-2.86zM5.41 20L4 18.59l7.72-7.72 1.47 1.35L5.41 20z\"/>\n",
              "  </svg>\n",
              "      </button>\n",
              "      \n",
              "  <style>\n",
              "    .colab-df-container {\n",
              "      display:flex;\n",
              "      flex-wrap:wrap;\n",
              "      gap: 12px;\n",
              "    }\n",
              "\n",
              "    .colab-df-convert {\n",
              "      background-color: #E8F0FE;\n",
              "      border: none;\n",
              "      border-radius: 50%;\n",
              "      cursor: pointer;\n",
              "      display: none;\n",
              "      fill: #1967D2;\n",
              "      height: 32px;\n",
              "      padding: 0 0 0 0;\n",
              "      width: 32px;\n",
              "    }\n",
              "\n",
              "    .colab-df-convert:hover {\n",
              "      background-color: #E2EBFA;\n",
              "      box-shadow: 0px 1px 2px rgba(60, 64, 67, 0.3), 0px 1px 3px 1px rgba(60, 64, 67, 0.15);\n",
              "      fill: #174EA6;\n",
              "    }\n",
              "\n",
              "    [theme=dark] .colab-df-convert {\n",
              "      background-color: #3B4455;\n",
              "      fill: #D2E3FC;\n",
              "    }\n",
              "\n",
              "    [theme=dark] .colab-df-convert:hover {\n",
              "      background-color: #434B5C;\n",
              "      box-shadow: 0px 1px 3px 1px rgba(0, 0, 0, 0.15);\n",
              "      filter: drop-shadow(0px 1px 2px rgba(0, 0, 0, 0.3));\n",
              "      fill: #FFFFFF;\n",
              "    }\n",
              "  </style>\n",
              "\n",
              "      <script>\n",
              "        const buttonEl =\n",
              "          document.querySelector('#df-02d32b7d-0729-4063-afcd-477f723f65f2 button.colab-df-convert');\n",
              "        buttonEl.style.display =\n",
              "          google.colab.kernel.accessAllowed ? 'block' : 'none';\n",
              "\n",
              "        async function convertToInteractive(key) {\n",
              "          const element = document.querySelector('#df-02d32b7d-0729-4063-afcd-477f723f65f2');\n",
              "          const dataTable =\n",
              "            await google.colab.kernel.invokeFunction('convertToInteractive',\n",
              "                                                     [key], {});\n",
              "          if (!dataTable) return;\n",
              "\n",
              "          const docLinkHtml = 'Like what you see? Visit the ' +\n",
              "            '<a target=\"_blank\" href=https://colab.research.google.com/notebooks/data_table.ipynb>data table notebook</a>'\n",
              "            + ' to learn more about interactive tables.';\n",
              "          element.innerHTML = '';\n",
              "          dataTable['output_type'] = 'display_data';\n",
              "          await google.colab.output.renderOutput(dataTable, element);\n",
              "          const docLink = document.createElement('div');\n",
              "          docLink.innerHTML = docLinkHtml;\n",
              "          element.appendChild(docLink);\n",
              "        }\n",
              "      </script>\n",
              "    </div>\n",
              "  </div>\n",
              "  "
            ]
          },
          "metadata": {},
          "execution_count": 220
        }
      ]
    },
    {
      "cell_type": "markdown",
      "source": [
        "The duplicates are dropped now."
      ],
      "metadata": {
        "id": "6LR_IyPRiJ1O"
      }
    },
    {
      "cell_type": "code",
      "source": [
        "df = df.drop_duplicates()\n",
        "df.duplicated().sum()"
      ],
      "metadata": {
        "colab": {
          "base_uri": "https://localhost:8080/"
        },
        "id": "DOJL0kw7hzlI",
        "outputId": "5deb6e47-8ca7-4d13-e23c-730b96a2390a"
      },
      "execution_count": 221,
      "outputs": [
        {
          "output_type": "execute_result",
          "data": {
            "text/plain": [
              "0"
            ]
          },
          "metadata": {},
          "execution_count": 221
        }
      ]
    },
    {
      "cell_type": "code",
      "source": [
        "df.describe(include = 'number')"
      ],
      "metadata": {
        "colab": {
          "base_uri": "https://localhost:8080/",
          "height": 300
        },
        "id": "1gJl9yHVdLQ7",
        "outputId": "74089f2a-c3d5-468a-895e-78fcdec03a5b"
      },
      "execution_count": 222,
      "outputs": [
        {
          "output_type": "execute_result",
          "data": {
            "text/plain": [
              "            rating   num_reviews        price         body      acidity\n",
              "count  2048.000000   2048.000000  2048.000000  1777.000000  1777.000000\n",
              "mean      4.401123    573.994629   135.242194     4.258863     2.921216\n",
              "std       0.147023   1376.153171   272.178316     0.652836     0.334713\n",
              "min       4.200000     25.000000     4.990000     2.000000     1.000000\n",
              "25%       4.300000     58.000000    31.917947     4.000000     3.000000\n",
              "50%       4.400000    141.000000    53.625000     4.000000     3.000000\n",
              "75%       4.500000    485.500000   110.000000     5.000000     3.000000\n",
              "max       4.900000  32624.000000  3119.080000     5.000000     3.000000"
            ],
            "text/html": [
              "\n",
              "  <div id=\"df-12e7f1cd-eec6-4e68-83c0-c99b7b1ab90c\">\n",
              "    <div class=\"colab-df-container\">\n",
              "      <div>\n",
              "<style scoped>\n",
              "    .dataframe tbody tr th:only-of-type {\n",
              "        vertical-align: middle;\n",
              "    }\n",
              "\n",
              "    .dataframe tbody tr th {\n",
              "        vertical-align: top;\n",
              "    }\n",
              "\n",
              "    .dataframe thead th {\n",
              "        text-align: right;\n",
              "    }\n",
              "</style>\n",
              "<table border=\"1\" class=\"dataframe\">\n",
              "  <thead>\n",
              "    <tr style=\"text-align: right;\">\n",
              "      <th></th>\n",
              "      <th>rating</th>\n",
              "      <th>num_reviews</th>\n",
              "      <th>price</th>\n",
              "      <th>body</th>\n",
              "      <th>acidity</th>\n",
              "    </tr>\n",
              "  </thead>\n",
              "  <tbody>\n",
              "    <tr>\n",
              "      <th>count</th>\n",
              "      <td>2048.000000</td>\n",
              "      <td>2048.000000</td>\n",
              "      <td>2048.000000</td>\n",
              "      <td>1777.000000</td>\n",
              "      <td>1777.000000</td>\n",
              "    </tr>\n",
              "    <tr>\n",
              "      <th>mean</th>\n",
              "      <td>4.401123</td>\n",
              "      <td>573.994629</td>\n",
              "      <td>135.242194</td>\n",
              "      <td>4.258863</td>\n",
              "      <td>2.921216</td>\n",
              "    </tr>\n",
              "    <tr>\n",
              "      <th>std</th>\n",
              "      <td>0.147023</td>\n",
              "      <td>1376.153171</td>\n",
              "      <td>272.178316</td>\n",
              "      <td>0.652836</td>\n",
              "      <td>0.334713</td>\n",
              "    </tr>\n",
              "    <tr>\n",
              "      <th>min</th>\n",
              "      <td>4.200000</td>\n",
              "      <td>25.000000</td>\n",
              "      <td>4.990000</td>\n",
              "      <td>2.000000</td>\n",
              "      <td>1.000000</td>\n",
              "    </tr>\n",
              "    <tr>\n",
              "      <th>25%</th>\n",
              "      <td>4.300000</td>\n",
              "      <td>58.000000</td>\n",
              "      <td>31.917947</td>\n",
              "      <td>4.000000</td>\n",
              "      <td>3.000000</td>\n",
              "    </tr>\n",
              "    <tr>\n",
              "      <th>50%</th>\n",
              "      <td>4.400000</td>\n",
              "      <td>141.000000</td>\n",
              "      <td>53.625000</td>\n",
              "      <td>4.000000</td>\n",
              "      <td>3.000000</td>\n",
              "    </tr>\n",
              "    <tr>\n",
              "      <th>75%</th>\n",
              "      <td>4.500000</td>\n",
              "      <td>485.500000</td>\n",
              "      <td>110.000000</td>\n",
              "      <td>5.000000</td>\n",
              "      <td>3.000000</td>\n",
              "    </tr>\n",
              "    <tr>\n",
              "      <th>max</th>\n",
              "      <td>4.900000</td>\n",
              "      <td>32624.000000</td>\n",
              "      <td>3119.080000</td>\n",
              "      <td>5.000000</td>\n",
              "      <td>3.000000</td>\n",
              "    </tr>\n",
              "  </tbody>\n",
              "</table>\n",
              "</div>\n",
              "      <button class=\"colab-df-convert\" onclick=\"convertToInteractive('df-12e7f1cd-eec6-4e68-83c0-c99b7b1ab90c')\"\n",
              "              title=\"Convert this dataframe to an interactive table.\"\n",
              "              style=\"display:none;\">\n",
              "        \n",
              "  <svg xmlns=\"http://www.w3.org/2000/svg\" height=\"24px\"viewBox=\"0 0 24 24\"\n",
              "       width=\"24px\">\n",
              "    <path d=\"M0 0h24v24H0V0z\" fill=\"none\"/>\n",
              "    <path d=\"M18.56 5.44l.94 2.06.94-2.06 2.06-.94-2.06-.94-.94-2.06-.94 2.06-2.06.94zm-11 1L8.5 8.5l.94-2.06 2.06-.94-2.06-.94L8.5 2.5l-.94 2.06-2.06.94zm10 10l.94 2.06.94-2.06 2.06-.94-2.06-.94-.94-2.06-.94 2.06-2.06.94z\"/><path d=\"M17.41 7.96l-1.37-1.37c-.4-.4-.92-.59-1.43-.59-.52 0-1.04.2-1.43.59L10.3 9.45l-7.72 7.72c-.78.78-.78 2.05 0 2.83L4 21.41c.39.39.9.59 1.41.59.51 0 1.02-.2 1.41-.59l7.78-7.78 2.81-2.81c.8-.78.8-2.07 0-2.86zM5.41 20L4 18.59l7.72-7.72 1.47 1.35L5.41 20z\"/>\n",
              "  </svg>\n",
              "      </button>\n",
              "      \n",
              "  <style>\n",
              "    .colab-df-container {\n",
              "      display:flex;\n",
              "      flex-wrap:wrap;\n",
              "      gap: 12px;\n",
              "    }\n",
              "\n",
              "    .colab-df-convert {\n",
              "      background-color: #E8F0FE;\n",
              "      border: none;\n",
              "      border-radius: 50%;\n",
              "      cursor: pointer;\n",
              "      display: none;\n",
              "      fill: #1967D2;\n",
              "      height: 32px;\n",
              "      padding: 0 0 0 0;\n",
              "      width: 32px;\n",
              "    }\n",
              "\n",
              "    .colab-df-convert:hover {\n",
              "      background-color: #E2EBFA;\n",
              "      box-shadow: 0px 1px 2px rgba(60, 64, 67, 0.3), 0px 1px 3px 1px rgba(60, 64, 67, 0.15);\n",
              "      fill: #174EA6;\n",
              "    }\n",
              "\n",
              "    [theme=dark] .colab-df-convert {\n",
              "      background-color: #3B4455;\n",
              "      fill: #D2E3FC;\n",
              "    }\n",
              "\n",
              "    [theme=dark] .colab-df-convert:hover {\n",
              "      background-color: #434B5C;\n",
              "      box-shadow: 0px 1px 3px 1px rgba(0, 0, 0, 0.15);\n",
              "      filter: drop-shadow(0px 1px 2px rgba(0, 0, 0, 0.3));\n",
              "      fill: #FFFFFF;\n",
              "    }\n",
              "  </style>\n",
              "\n",
              "      <script>\n",
              "        const buttonEl =\n",
              "          document.querySelector('#df-12e7f1cd-eec6-4e68-83c0-c99b7b1ab90c button.colab-df-convert');\n",
              "        buttonEl.style.display =\n",
              "          google.colab.kernel.accessAllowed ? 'block' : 'none';\n",
              "\n",
              "        async function convertToInteractive(key) {\n",
              "          const element = document.querySelector('#df-12e7f1cd-eec6-4e68-83c0-c99b7b1ab90c');\n",
              "          const dataTable =\n",
              "            await google.colab.kernel.invokeFunction('convertToInteractive',\n",
              "                                                     [key], {});\n",
              "          if (!dataTable) return;\n",
              "\n",
              "          const docLinkHtml = 'Like what you see? Visit the ' +\n",
              "            '<a target=\"_blank\" href=https://colab.research.google.com/notebooks/data_table.ipynb>data table notebook</a>'\n",
              "            + ' to learn more about interactive tables.';\n",
              "          element.innerHTML = '';\n",
              "          dataTable['output_type'] = 'display_data';\n",
              "          await google.colab.output.renderOutput(dataTable, element);\n",
              "          const docLink = document.createElement('div');\n",
              "          docLink.innerHTML = docLinkHtml;\n",
              "          element.appendChild(docLink);\n",
              "        }\n",
              "      </script>\n",
              "    </div>\n",
              "  </div>\n",
              "  "
            ]
          },
          "metadata": {},
          "execution_count": 222
        }
      ]
    },
    {
      "cell_type": "markdown",
      "source": [
        "#Inconsistent Data\n",
        "\n",
        "Below is a look at all the values of the data.  There are no inconsistencies of categorical data in this set."
      ],
      "metadata": {
        "id": "LdZ9qn3hvZBV"
      }
    },
    {
      "cell_type": "code",
      "source": [
        "df.value_counts()"
      ],
      "metadata": {
        "colab": {
          "base_uri": "https://localhost:8080/"
        },
        "id": "CmYOmk-sjTqM",
        "outputId": "a17d1a50-4cb4-4f3d-90d0-a6db3fc8153e"
      },
      "execution_count": 223,
      "outputs": [
        {
          "output_type": "execute_result",
          "data": {
            "text/plain": [
              "winery                            wine                                year  rating  num_reviews  country  region    price      type         body  acidity\n",
              "AGE                               Fuenmayor Gran Reserva              1959  4.3     29           Espana   Rioja     230.00000  Rioja Red    4.0   3.0        1\n",
              "Navajas                           Mirador de Navajas Reserva Rioja    2011  4.3     29           Espana   Rioja     28.75501   Rioja Red    4.0   3.0        1\n",
              "Orben                             Malpuesto                           2018  4.4     158          Espana   Rioja     35.50000   Rioja Red    4.0   3.0        1\n",
              "                                                                      2017  4.3     239          Espana   Rioja     30.30000   Rioja Red    4.0   3.0        1\n",
              "Ontanon                           Queiron Reserva Vinedos Familiares  2011  4.4     74           Espana   Rioja     26.85000   Rioja Red    4.0   3.0        1\n",
              "                                                                                                                                                            ..\n",
              "Contino                           Reserva                             2016  4.2     392          Espana   Rioja     19.98000   Rioja Red    4.0   3.0        1\n",
              "                                                                      1995  4.3     45           Espana   Rioja     55.00000   Rioja Red    4.0   3.0        1\n",
              "Conreria d'Scala Dei              Voltons                             2017  4.4     32           Espana   Priorato  51.95000   Priorat Red  4.0   3.0        1\n",
              "                                                                      2015  4.3     64           Espana   Priorato  47.00000   Priorat Red  4.0   3.0        1\n",
              "l'Infernal Combier Fischer Gerin  Vinas Viejas Aguilera               2010  4.3     76           Espana   Priorato  69.00000   Priorat Red  4.0   3.0        1\n",
              "Length: 1775, dtype: int64"
            ]
          },
          "metadata": {},
          "execution_count": 223
        }
      ]
    },
    {
      "cell_type": "code",
      "source": [
        "df['winery'].value_counts()\n",
        "print(df['winery'].unique())"
      ],
      "metadata": {
        "colab": {
          "base_uri": "https://localhost:8080/"
        },
        "id": "r-bdGzPPjTmj",
        "outputId": "88db1038-8cc1-429e-fba1-9b32e116875e"
      },
      "execution_count": 224,
      "outputs": [
        {
          "output_type": "stream",
          "name": "stdout",
          "text": [
            "['Teso La Monja' 'Artadi' 'Vega Sicilia' 'Pago de Carraovejas'\n",
            " 'Toro Albala' 'Bodegas El Nido' 'Valdespino' 'Dominio de Pingus'\n",
            " 'Alvaro Palacios' 'Ordonez' 'Bodegas Valduero' 'Vina Sastre'\n",
            " 'Sierra Cantabria' 'Descendientes de J. Palacios' 'La Rioja Alta'\n",
            " 'Marques de Murrieta' 'Vinedos de Paganos' 'Emilio Moro'\n",
            " 'Quinta de la Quietud' 'Bodegas Mauro' 'Bodega Contador (Benjamin Romeo)'\n",
            " 'Remirez de Ganuza' 'Bodegas San Roman' 'Pago de Los Capellanes'\n",
            " 'Bodega Numanthia' 'Alto Moncayo' 'Mas Doix' 'Finca Moncloa'\n",
            " 'Bodegas Roda' 'Martinet' 'Recaredo' 'Clos Erasmus' 'Barbadillo'\n",
            " 'Gonzalez-Byass' 'Bodegas Amaren' 'Alvear' 'Equipo Navazos' 'Morca'\n",
            " 'Territorio Luthier' 'Rafael Palacios' 'Terra Remota'\n",
            " 'Dehesa de Los Canonigos' 'Miguel Merino' 'Gutierrez de la Vega' 'Alion'\n",
            " 'Aalto' 'Carmelo Rodero' 'Dominio del Bendito' \"Mas d'en Gil\"\n",
            " 'Casa Castillo' 'Matarromera' 'Nin-Ortiz' 'Vinas del Vero'\n",
            " 'Marques de Riscal' 'Arzuaga' 'Bodegas Mas Alta' 'Dominio de Calogia'\n",
            " 'Tomas Postigo' 'Cal Pla' 'Ossian' 'Cepa 21' 'Bodegas Vilano' 'Allende'\n",
            " 'Costers del Siurana' 'Hacienda Monasterio' 'Castillo Perelada' 'Osborne'\n",
            " 'Ysios' 'Marques de Grinon' 'Contino' 'Gramona' 'Dominio del Aguila'\n",
            " 'Hacienda Solano' 'Francisco Garcia Perez' 'Anima Negra' 'Castano'\n",
            " 'La Legua' 'Castillo de Cuzcurrita' 'Oxer Wines' 'Bodegas Yuste'\n",
            " 'Bodegas 6o Elemento - Vino Sexto Elemento'\n",
            " 'Proyecto Garnachas de Espana' 'Casal de Arman' 'Vall Llach'\n",
            " 'Pago de Larrainzar' 'Ukan Winery' 'Vina Real' 'Dominio de Atauta'\n",
            " 'Micro Bio (MicroBio)' 'Terroir Al Limit Soc. Lda' 'Finca Torremilanos'\n",
            " 'Huerta de Albala' 'Gomez Cruzado' \"Castell d'Encus\" 'Abadia Retuerta'\n",
            " 'Enate' 'Benjamin de Rothschild - Vega Sicilia' 'Bodegas Aragonesas'\n",
            " 'Telmo Rodriguez' 'Acustic Celler' 'Vina Pedrosa' 'Pintia' 'Belondrade'\n",
            " 'Muga' 'Clos Mogador' 'Bodegas Tradicion' 'Senorio de San Vicente'\n",
            " 'Francisco Barona' 'Juan Gil' 'Lan' 'R. Lopez de Heredia' 'Adama Wines'\n",
            " 'Milsetentayseis' 'Espectacle del Montsant' 'Tinto Pesquera'\n",
            " 'Ferrer Bobet' 'Familia Torres' 'Pazo Barrantes' 'Tio Pepe'\n",
            " 'Cruz de Alba' 'Emilio Rojo' 'Dominio de Es' 'Jesus Madrazo'\n",
            " 'Bodegas Naluar & Acediano' 'Marques de Caceres' 'Trus' 'Mestres'\n",
            " 'Chivite' 'Bodega Ribas' 'Vinas del Cenit' 'Mas del Serral' 'Cervoles'\n",
            " 'Diez Merito' 'Marques de Burgos' 'Penafiel' 'Tobia'\n",
            " 'Tresmano - Tr3smano' 'Sei Solo' 'Finca Villacreces'\n",
            " 'Virgen de la Asuncion' 'Romate' 'Sara Perez y Rene Barbier'\n",
            " 'Dehesa del Carrizal' 'Tarsus' 'Beronia' 'Monte Real' 'Divina Proporcion'\n",
            " 'Vina al Lado de la Casa' 'Marques de la Concordia' 'Agusti Torello Mata'\n",
            " 'Dominio de Cair' 'Valquejigoso' 'Veigamoura' 'Vizcarra' 'Legaris'\n",
            " 'Federico Paternina' 'Vinicola Real' 'Losada' \"Clos d'Agon\"\n",
            " 'Sacristia AB' 'Uvaguilera Aguilera' 'Emilio Hidalgo' 'Altos del Terral'\n",
            " 'El Regajal' 'Valderiz' 'Jose Pariente' 'Amos Baneres' 'Scala Dei'\n",
            " 'Bodegas Valdelana' 'Abel Mendoza Monge' 'Anayon' 'Sierra Salinas'\n",
            " 'Vinos Sanz' 'Cerro San Cristobal' 'Altos de Rioja'\n",
            " 'Bodegas Celler Francisco Castillo - Clos Dominic' 'La Vinya del Vuit'\n",
            " 'Venus la Universal' 'Pedralonga' 'Atalaya' 'Matsu' 'Marques de Vargas'\n",
            " 'Volver' 'Tridente' 'Ausas' 'Cillar de Silos' 'Imperial' 'Ramos-Paul'\n",
            " 'Bodega de Bardos' 'Rodriguez Sanzo' 'Antidoto' 'Bosque de Matasnos'\n",
            " 'Altanza' 'Remelluri' 'Perinet' 'La Vicalanda' 'Monovar' 'Alvaro Domecq'\n",
            " 'Los Aguilares' 'Bodega Rento' 'Dominio do Bibei' 'Marco Abella'\n",
            " 'Javier Sanz Viticultor' 'Protos' 'Harveys' 'Orben' 'Jaro'\n",
            " 'Bodegas Ximenez-Spinola' 'Bodegas El Paraguas' 'Mustiguillo'\n",
            " 'Vina Pomal' 'Astrales' 'Merum Priorati' 'Hacienda Lopez de Haro'\n",
            " 'Cayetano del Pino' 'La Unica' 'Pazo Senorans' 'Fefinanes' 'Resalte'\n",
            " 'Figuero' 'Pinea' 'Portal del Priorat' 'Cims de Porrera' 'Casa Rojo'\n",
            " 'Murua' 'Vinyes Domenech' 'Pago de Vallegarcia' 'Eulogio Pomares'\n",
            " 'Sangenis I Vaque' 'Delgado Zuleta' 'VALENCISO' 'Mas Perinet'\n",
            " 'Luis A. Rodriguez Vazquez' 'Chozas Carrascal' 'Alonso del Yerro'\n",
            " 'Clos Figueras' 'Bodegas Monte La Reina' 'Ontanon' 'Alta Alella'\n",
            " 'Bodega Elias Mora' 'Joan Simo' 'Can Axartell' 'Juan Pinero' 'Mas Llunes'\n",
            " 'Bodegas Frontaura' 'Roig Parals' 'Avgvstvs' 'Jorge Ordonez'\n",
            " 'Ramon Bilbao' 'Leda' 'Enric Soler' 'Es Fangar'\n",
            " 'Cal Batllet - Celler Ripoll Sans' 'Llopart' 'Portia' 'Ostatu'\n",
            " 'Finca Valpiedra' 'Baigorri' 'Vivaltus' 'Comenge'\n",
            " 'Collbaix Celler El Moli' 'Martinez Lacuesta' 'Pujanza' 'Albet i Noya'\n",
            " 'Olivier Riviere' 'Bodegas Tierra' 'Torre de Ona'\n",
            " 'Do Ferreiro (Bodegas Gerardo Mendez)' 'Martin Codax'\n",
            " 'Vinedos Hermanos Hernaiz' 'Freixenet' 'Azpilicueta' 'Veronica Salgado'\n",
            " 'Clos Galena' 'Bodegas Imperiales - Abadia de San Quirce' 'Marta Mate'\n",
            " 'Venta Las Vacas' 'Pago Calzadilla' 'Vivanco' 'Fernandez Gao' 'Museum'\n",
            " 'Farina' 'Galindo San Millan' 'Bodegas Casa Primicia' 'Castell Miquel'\n",
            " 'Barco del Corneta' \"Joan d'Anguera\" 'Xaloc' 'Carlos Moro'\n",
            " 'Bodegas Luis Perez' 'Ladairo' \"Conreria d'Scala Dei\" 'Traslascuestas'\n",
            " 'Lopez Cristobal' 'Codorniu' 'Sota els Angels' 'Berceo'\n",
            " 'Mas Blanch I Jove' 'Carlos Serres' 'David Moreno' 'Edra'\n",
            " 'Valdelosfrailes' 'Briego' 'Guillem Carol - Cellers Carol Valles'\n",
            " 'Barahonda' 'Particular' 'Bodegas Frontonio' 'Bodegas Asenjo & Manso'\n",
            " 'Luis Canas' 'Garmon' 'Williams & Humbert' 'Condado de Haza' 'Lustau'\n",
            " 'Bodegas Faustino' 'St. Petroni' 'Llanos Negros' 'Aster' 'Avancia'\n",
            " 'Marques de Tomares' 'Quinta Sardonia' 'Abadal' 'Hermanos Pecina'\n",
            " 'Biniagual' 'Breca' 'Pradorey' 'Terras Gauda' 'Bodega Tesalia'\n",
            " 'Pazo de Rubianes' 'Godeval' 'Bodegas Olarra' 'Taron' 'Sonsierra'\n",
            " 'Vins Miquel Gelabert' 'El Grillo y La Luna' 'De Moya' 'Campillo'\n",
            " 'Jean Leon' 'Bodegas Ateca' 'Bodega Campo Eliseo' 'Fernandez de Pierola'\n",
            " 'De Muller' 'Monteabellon' 'Pepe Mendoza Casa Agricola' 'Vinos Guerra'\n",
            " 'Neo' \"Terra d'Uro\" 'Zarate' 'Noelia Bebelia' 'Marti Fabra'\n",
            " 'Palmeri Sicilia' 'Mas Que Vinos' 'Bodegas Estraunza' 'Pittacum'\n",
            " 'Bodega Sommos' 'Celler de Capcanes' 'Arinzano' 'Pago del Vostal' 'Habla'\n",
            " 'Rodriguez de Vera' 'Callejuela' 'El Maestro Sierra' 'Paco & Lola'\n",
            " 'Valtravieso' 'Costers del Priorat' 'Bodegas Urium' 'Bodega Otazu'\n",
            " 'Perez Barquero' 'Oller del Mas' 'Bodegas Clunia' 'Bodegas Ochoa'\n",
            " \"Ca l'Apotecari\" 'Josep Grau Viticultor' 'Fos' 'Hacienda Grimon'\n",
            " 'Capafons-Osso' 'Can Rafols dels Caus' 'Raul Perez' 'Dominio de la Vega'\n",
            " 'Juve & Camps' 'Mas de les Pereres' 'Guilera'\n",
            " \"l'Infernal Combier Fischer Gerin\" 'Jorge Piernas' 'Balandro'\n",
            " 'M. Antonio de la Riva' 'Espelt' 'Bodegas Arfe' 'Real de Asua'\n",
            " 'Vinyes dels Aspres' 'Valserrano' 'Shaya' 'Finca Rio Negro' 'Loxera'\n",
            " 'Dominio Fournier' 'Bodegas Yzaguirre' 'Neton' 'Bodega Aida i Luis'\n",
            " 'Cartoixa de Montsalvat' 'El Lagar de Isilla' 'Anibal de Otero'\n",
            " 'Altos del Enebro' 'Albamar' 'Can Bas' 'Atlantida' 'Atlan & Artisan'\n",
            " 'Olivardots' 'Lar de Paula' 'La Val' 'Tres Piedras' 'Javi Revert'\n",
            " 'Lambuena' 'Attis' 'San Cobate' 'Santa Petronila' 'Jimenez-Landi'\n",
            " 'Hidalgo (La Gitana)' 'Gallina de Piel' 'Arid' 'Bodegas Reyes'\n",
            " 'Hugas de Batlle' 'Bodegas Arrocal' 'Buil & Gine' 'Castell del Remei'\n",
            " 'Valdubon' 'Bodegas Y Vinedos Alilian' 'Sebio' 'Goyo Garcia Viadero'\n",
            " 'Santiago Ruiz' 'Mauro Estevez' 'Mas Bertran' 'Bodegas Gama' 'Edetaria'\n",
            " 'Hacienda Zorita Natural Reserve' 'Ton Rimbau' 'Can Xanet' 'A Coroa'\n",
            " 'Alonso & Pedrajo' 'Mandia Vell' 'Bodega Juan Carlos Sancha'\n",
            " 'Valdecuevas' 'Algueira' 'Mocen' 'Estones' 'Bodega Tameran' 'Inurrieta'\n",
            " 'Flor de Chasna' 'Lagar de Sabariz' 'Naia' 'AGE' 'Navajas'\n",
            " 'Vinyes del Terrer' 'Cepas Familiares' 'Dominio de Loalva' 'Zifar'\n",
            " 'Bordalas Garcia' 'Rimarts' 'Pinna Fidelis' 'Loess' 'Dominio de Anza'\n",
            " 'Samsara' 'Cuentavinas' 'Felix Solis' 'El Coto' 'Mar de Frades'\n",
            " 'Montecastro' 'Bodegas La Horra' 'Baluarte' 'Hispano Suizas' 'Murviedro'\n",
            " 'Diez Caballero' 'Vegalfaro' 'Palacios Remondo' 'Fernando de Castilla'\n",
            " 'Bohorquez' 'Adega Familiar Eladio Pineiro' 'Culebron' 'Enrique Mendoza'\n",
            " 'Clos Pons' 'Ramon do Casar' 'Binigrau']\n"
          ]
        }
      ]
    },
    {
      "cell_type": "code",
      "source": [
        "df['wine'].value_counts()\n",
        "print(df['wine'].unique())"
      ],
      "metadata": {
        "colab": {
          "base_uri": "https://localhost:8080/"
        },
        "id": "p_Bbb1O7jTix",
        "outputId": "8a8051ad-ac6c-4913-9b2b-720f6aa6acd9"
      },
      "execution_count": 225,
      "outputs": [
        {
          "output_type": "stream",
          "name": "stdout",
          "text": [
            "['Tinto' 'Vina El Pison' 'Unico' 'Unico Reserva Especial Edicion'\n",
            " 'El Anejon' 'Don PX Convento Seleccion' 'Cuesta de Las Liebres' 'El Nido'\n",
            " 'Toneles Moscatel' 'Pingus' 'Don PX Pedro Ximenez'\n",
            " \"L'Ermita Velles Vinyes Priorat\" 'Vatan Arena Tinta de Toro'\n",
            " 'Ribera Del Duero Gran Reserva 12 Anos' 'Pesus Ribera del Duero' 'Magico'\n",
            " 'La Faraona Bierzo (Corullon)' 'Gran Reserva 890' 'Valbuena 5o'\n",
            " 'Castillo Ygay Gran Reserva Especial Blanco' 'La Nieta'\n",
            " 'Malleolus de Valderramiro' 'Malleolus de Sanchomartin' 'Alabaster'\n",
            " 'La Mula de la Quietud' 'Terreus Paraje de Cueva Baja' 'Contador Rioja'\n",
            " 'Maria Remirez de Ganuza' 'Cartago Paraje de Pozo'\n",
            " 'Parcela El Picon Tinto' 'Termanthia' 'Clon De La Familia'\n",
            " 'Aquilon Garnacha' 'Quinon de Valmira' '1902 Centenary Carignan Priorat'\n",
            " 'Tintilla de Rota' 'Cirsion Rioja' 'Cami Pesseroles' \"Turo d'en Mota\"\n",
            " 'Priorat' 'Reliquia Palo Cortado Sherry' 'Anada Palo Cortado 1987'\n",
            " 'Daphne Glorian Red' 'El Regollar' 'Abuelo Diego Palo Cortado'\n",
            " 'La Bota 78 de Oloroso' 'Touran' 'Luthier Gran Reserva'\n",
            " 'Sorte O Soro Val do Bibei' 'Reserva Particular de Recaredo Brut Nature'\n",
            " 'Usted' 'Gran Reserva' 'Regina Vides Ribera del Duero' 'La Loma'\n",
            " 'Recondita Armonia Monastrell Dulce'\n",
            " 'Castillo Ygay Gran Reserva Especial Tinto' 'Ribera del Duero'\n",
            " 'PS (Pagos Seleccionados) Ribera del Duero' 'Flor de Pingus'\n",
            " 'Pago De Valtarrena' 'El Titan del Bendito' 'Dalmau Rioja'\n",
            " 'Finca el Bosque' 'Pago de Santa Cruz' 'Clos Fonta Priorat'\n",
            " 'Cuvee N Vinas Viejas' 'Ribera del Duero Prestigio Pago de las Solanas'\n",
            " \"Nit de Nin Mas d'en Cacador\" 'VS' 'Blecua Somontano'\n",
            " 'Frank Gehry Selection' 'Amaya Arzuaga (Coleccion)' 'La Creu Alta'\n",
            " '5o Ano Ribera del Duero Tinto' 'Planots Priorat' 'Capitel'\n",
            " 'Gran Arzuaga Ribera del Duero' 'Horcajo' 'Aurus' \"Dolc de L'Obac\"\n",
            " 'Trasnocho' 'Doroteo Edicion Especial 25 Aniversario'\n",
            " 'Tierra Alta de 2 Racimos Gran Reserva'\n",
            " 'Reserva Especial Ribera del Duero' 'Reserva Especial'\n",
            " 'Gran Buig Priorat' 'Finca Garbet' 'Solera India Oloroso Rare Sherry'\n",
            " 'Amancio' 'Gines Liebana Pedro Ximenez' 'Don PX Seleccion' 'Reserva'\n",
            " 'Finca Las Naves' 'AAA' 'Vina del Olivo' 'Les Aubaguetes Priorat'\n",
            " 'Cava Enoteca Finca La Plana Brut Nature' 'Gran Reserva Penas Aladas'\n",
            " 'Pena Lobera' 'Adega do Moucho Treixadura' 'Son Negre'\n",
            " 'Casa Cisca Monastrell' 'Moncerbal Bierzo (Corullon)' 'Capricho'\n",
            " 'Cerrado del Castillo Rioja' 'Kalamity Rioja'\n",
            " 'Conde de Aldama Amontillado' 'Respeto'\n",
            " 'El Garnacho Viejo de la Familia Acha' 'Ribera del Duero Prestigio'\n",
            " 'Finca Misenhora Edicion Limitada' 'La Poza de Ballesteros'\n",
            " 'Reserva Rioja (Finca Ygay)' 'Idus' 'Rosado de Larrainzar'\n",
            " 'Valdafoz Bierzo (Corullon)' 'Rioja Gran Reserva'\n",
            " 'Valdegatiles Ribera del Duero' 'Respublica Verdejo' 'Les Tosses'\n",
            " 'Torremilanos Coleccion Ribera del Duero' 'El Carretil' 'Taberner No. 1'\n",
            " 'Vina Motulleri' 'Saktih' 'Cuvee Palomar' 'Uno Tinto' 'Macan'\n",
            " '1903 Centenary Grenache' 'Galiano Seleccion Especial' 'Molino Real'\n",
            " 'Etern Vinyes Molt Velles' '40 Aniversario Gran Reserva' 'Solera BC-200'\n",
            " 'Corpinnat Enoteca Reserva Particular de Recaredo' 'Toro' 'Clio'\n",
            " 'Garnacha' 'Parcela El Nogal Tinto' 'Belondrade y Lurton' 'Rioja Reserva'\n",
            " 'Prado Enea Gran Reserva' 'Pedro Ximenez Tradicion 20 Years Old Vos'\n",
            " 'Torre Muga' 'Aro' 'San Vicente Rioja' 'Ribera del Duero TSM'\n",
            " 'Ribera Del Duero Reserva Premium 6 Anos' \"Clos de L'Obac\"\n",
            " 'Reserva Ribera del Duero' 'Ribera Del Duero' 'Bruto'\n",
            " 'Culmen Reserva Rioja' 'Vina Tondonia Gran Reserva' 'Petit Verdot'\n",
            " 'Clos Martinet' 'Millenium Gran Reserva' 'Finca Dofi'\n",
            " 'Gran Reserva Ribera del Duero' 'Seleccio Especial Vinyes Velles'\n",
            " 'Calvario Rioja' 'Ribera del Duero Una Cepa I' 'Grans Muralles'\n",
            " 'Gran Vino Albarino' 'Cuatro Palmas Amontillado' 'Pago Garduna'\n",
            " 'La Cueva del Contador Rioja' 'Solera 1830 Pedro Ximenez'\n",
            " 'Que Bonito Cacareaba Blanco' 'Baron de Chirel Rioja Reserva'\n",
            " 'Emeritvs (Emeritus)' 'Finca Los Hoyales Ribera del Duero' 'Blanco'\n",
            " 'La Basseta' 'Territorio Luthier Reserva'\n",
            " 'Vinas Viejas de Soria Ribera Del Duero'\n",
            " 'Pago de Santa Cruz Gran Reserva Ribera del Duero'\n",
            " 'As Sortes Val do Bibei Godello' 'Seleccion Rioja' 'Millenium Reserva'\n",
            " 'Acediano' 'Gaudium' 'Pico de Luyas' 'Grandes Anadas Rioja'\n",
            " 'Mas Via Gran Reserva Brut' 'Navarra Coleccion 125 Blanco'\n",
            " 'Chardonnay Uno' 'Don PX Vieja Cosecha' 'Ribas de Cabrera' 'Cenit'\n",
            " 'Mas del Serral' 'Estrats' 'Fino Imperial Amontillado 30 Anos'\n",
            " 'Coliseo Amontillado VORS' 'Vina Tondonia Gran Reserva Blanco' '8000'\n",
            " 'Mironia Black Edition Tempranillo' 'Miserere' 'Alma Tobia Rioja' 'Tm'\n",
            " 'Doix' 'Nebro Ribera del Duero' 'El Canto del Angel'\n",
            " 'Rioja Blanco Reserva' 'Cayetano del Pino Viejisimo Palo Cortado'\n",
            " 'Gratallops Partida Bellvisos' 'Coleccion Privada' 'Finca El Canto'\n",
            " 'Finca Cascorrales' 'Rioja Gran Reserva 904'\n",
            " 'Marques de Poley Amontillado Seleccion 1951' 'Platon Tinto'\n",
            " 'Altos de Las Gateras Monastrell' 'Canta la Perdiz'\n",
            " 'Marques de la Concordia VSG Premium (formerly Hacienda de Susar Rioja)'\n",
            " 'Cava Kripta Gran Reserva Brut Nature' 'Alba de Miros Rueda Verdejo'\n",
            " 'Pendon De La Aguilera' 'V2 Tinto' 'Celia' 'Calmo' 'Confesor Rioja'\n",
            " 'La Bienquerida' 'Seleccion Especial' 'Saca Unica' 'Palomero'\n",
            " 'Grano a Grano' 'Santa Ana Pedro Ximenez 1861'\n",
            " 'Cuvee Julia Ribera del Duero' 'Las Lamas Bierzo (Corullon)'\n",
            " '200 Monges Rioja Reserva Seleccion Especial' 'Galia Clos Santuy'\n",
            " 'Tomas Esteban' 'Finca Las Comas Verdejo' 'Diables'\n",
            " 'St Antoni de Scala Dei Priorat' 'Valdegines' 'Seda de Oro Reserva'\n",
            " 'Grano a Grano Graciano - Garnacha' 'Carraquintana de Amaren'\n",
            " 'Garnacha Parcela 81 Vinas Viejas'\n",
            " \"Cava Enoteca Finca de L'Origen Brut Nature\" 'Salinas 1237'\n",
            " 'Cabernet Sauvignon' 'Finca La Colina Sauvignon Blanc'\n",
            " 'Dominio del Verso Red Blend' 'Altos R Pigeage Nacido en Barrica Blanco'\n",
            " 'Vinyes Altes Porrera' 'La Vinya del Vuit (8)' 'Venus de la Figuera'\n",
            " 'Vendetta' 'Ribera del Duero Reserva' 'Malleolus'\n",
            " 'Seleccion Especial (Reserva)' 'Cosecha' 'Red' 'Vina Ardanza Reserva'\n",
            " 'Roda I Reserva Rioja' '3er Ano Ribera del Duero Tinto' 'Macan Clasico'\n",
            " 'Alaya Tierra (Old Vines Vieilles Vignes)' 'El Viejo'\n",
            " 'Hacienda Pradolagar' '200 Monges Rioja Reserva' 'Reserva Tinto'\n",
            " 'Jumilla Blue Label' 'Palo Cortado Tradicion Vors 30 Years Sherry'\n",
            " 'Triga' 'Amontillado Tradicion Vors 30 Years' 'Victorino'\n",
            " 'Reserva Privada Rioja' 'Pago Negralada' 'Rejon Tempranillo'\n",
            " 'Interpretacion' 'Vendimia' 'Priorat Vinyes Velles' 'Tempranillo Reserva'\n",
            " 'Cream Tradicion Vos 20 Years' 'Vatan Tinta de Toro' 'Dominio del Pidio'\n",
            " 'Pagos Viejos' 'An' 'Numanthia' 'Suprema 30 Meses'\n",
            " 'Whisba Tempranillo Aged 18 Months in Whisky Barrels' 'A Mano Rioja'\n",
            " '200 Monges Rioja Gran Reserva' 'La Hormiga de Antidoto'\n",
            " 'Le Domaine Blanco de Guarda' 'Edicion Limitada'\n",
            " 'Lealtanza Coleccion de Artistas Espanoles Sorolla'\n",
            " 'Granja Gran Reserva Rioja' 'Perez Pascuas Gran Reserva Seleccion'\n",
            " 'El Puntido Gran Reserva' 'Cuvee Old Vines Unfiltered' 'Fondillon'\n",
            " '1730 Pedro Ximenez' 'Cirerets' 'Vinas Viejas Verdejo' 'Tadeo Tinto'\n",
            " 'Tierras de Cair Reserva' 'Gran Reserva Rosado' 'Cava Celler Batlle'\n",
            " 'Rioja Blanco' 'Lapola' 'Clos Abella Seleccion Especial' 'Pie Franco'\n",
            " 'Singular V Malcorta Verdejo' 'Serral del Vell Brut Nature'\n",
            " 'Seleccion Finca el Grajo Viejo' '30 Years VORS Pedro Ximenez Sherry'\n",
            " 'Malpuesto' 'Chafandin' 'La Vina de Andres Romeo Rioja'\n",
            " 'Delicado Cosecha Pedro Ximenez' 'Atlantico' 'Quincha Corral'\n",
            " 'Els Escurcons' 'Vinos Singulares Tempranillo Blanco Reserva'\n",
            " 'Christina Ribera del Duero' 'Desti' 'Gran Reserva Classica Tinto'\n",
            " 'Godello Blanco' 'Palo Cortado 1/10' 'Fourth Edition'\n",
            " 'Seleccion de Anada Albarino Rias Baixas' 'Albarino de Fefinanes III Ano'\n",
            " 'Perpetual' 'El Cel' 'Montes Obarenes Seleccion Terroir'\n",
            " 'Porrera Vi de Vila' 'Gran Ribera del Duero' 'Heretge Priorat'\n",
            " 'Vinas Viejas' 'Sibarita Oloroso Jerez-Xeres-Sherry 30 Years V.O.R.S'\n",
            " '17' 'Clos del Portal Tros de Clos' 'Classic' 'Minami'\n",
            " 'Vi de Vila Gratallops' 'Veguin de Murua Gran Reserva'\n",
            " 'O Luar do Sil Valdeorras Godello Sobre Lias' 'Teixar'\n",
            " 'Anada Pedro Ximenez' 'Clos del Portal Somni' 'Les Manyes'\n",
            " 'Emporda Aires de Garbet' 'Montes de Toledo Syrah'\n",
            " 'Maceracion Con Pieles' 'Clos Monlleo' 'B.Rodriguez La-Cave Quo Vadis?'\n",
            " 'La Solana Alta' 'Rioja Reserva 10 Anos Despues Edicion Limitada'\n",
            " 'Perinet + Plus' 'Vina de Martin Escolma Ribeiro'\n",
            " 'Ribera del Duero Torralvo' 'El Cabernet F - Familiar' 'Premium'\n",
            " 'Hipperia Red Blend' 'Maria Ribera del Duero' 'Vendimia Seleccionada'\n",
            " 'Clos Figueres' 'Castillo de Monte la Reina Cuvee Privee'\n",
            " 'Amontillado Saca' 'Queiron Reserva Vinedos Familiares'\n",
            " 'Don PX Gran Reserva' 'Llanos del Almendro Ribera del Duero'\n",
            " 'Dolc Mataro' 'Toro 2V Premium' 'Les Eres Vinyes Velles'\n",
            " 'Gran Reserva Classica Blanco' 'The Artist'\n",
            " 'Amontillado 30 Years Old V.O.R.S Sherry'\n",
            " 'La Comtesse de Pazo Barrantes Albarino' '5V Blanco'\n",
            " 'Finca Butaros Vinya Centenaria' 'Seleccion Privada'\n",
            " \"Aponte Winemaker's Private Collection Tempranillo\" 'Cami de Cormes'\n",
            " '1194' 'Malabrigo Ribera del Duero' 'Old & Plus Pedro Ximenez'\n",
            " 'Reserva Trajanvs' 'No. 2 Victoria' 'Emporda Gran Claustro'\n",
            " 'Lalomba Finca Valhonta' 'Manyetes' 'Pago Valdebellon'\n",
            " 'Guarda de Leda Seleccion Tempranillo' 'Nun Vinya dels Taus'\n",
            " 'Lo Cortinelo.Lo Blanc' '5 Partides Gratallops Vi de La Vila'\n",
            " 'Cava Ex-Vite Gran Reserva Brut' 'Summa Edicion Limitada'\n",
            " 'Pago El Espino' 'Gloria Rioja' 'Petra de Valpiedra Garnacha'\n",
            " 'Alto de la Caseta' 'Mas de la Rosa' 'Rioja B70' 'Don Miguel'\n",
            " 'Singular Negre' 'Rioja Reserva Especial' 'Rioja Cisma' 'Martires Rioja'\n",
            " 'Cava Original Brut (Espumos)' 'Marti Reserva Penedes'\n",
            " 'Vina Ardanza Reserva Seleccion Especial' 'Oloroso 30 Years Old V.O.R.S'\n",
            " 'Pozo Alto' 'El Cristo de Samaniego' 'El Belisario'\n",
            " 'Baron de Ona Rioja Reserva' 'Cepas Vellas Rias Baixas Albarino'\n",
            " 'La Aguilera' 'Pirata' 'Hispania' 'Arousa' 'Las Cenizas Tempranillo'\n",
            " 'Solanes Priorat' 'Cava Cuvee De Prestige Trepat'\n",
            " 'Felix Azpilicueta Coleccion Privada' 'Savinat Sauvignon Blanc'\n",
            " 'Capricho Crianza' 'Finca La Emperatriz Vinedo Singular Tinto' 'Galena'\n",
            " 'Solera PAP Palo Cortado Rare Sherry' 'Finca Helena' 'Primordium'\n",
            " 'La Cuartilleja Reserva' 'Noble' 'De Garage Rioja' 'Gran Calzadilla'\n",
            " '4 Varietales Coleccion Rioja' 'Oloroso' 'Numerus Clausus'\n",
            " '200 Monges Rioja Seleccion Especial Reserva Blanco'\n",
            " '30 Years V.O.R.S Very Old Palo Cortado Blend Medium Sherry'\n",
            " 'Campus Gothorum' 'La Pizca' 'La Bota 90 de Manzanilla Pasada'\n",
            " 'Moradillo de Roa' 'Cofradia' 'Stairway To Heaven Rosado' 'La Silleria'\n",
            " 'Planella' 'Gallaecia Rias Baixes Albarino' 'Monada' 'Verdejo'\n",
            " 'Vina Garugele' 'Barrica' 'Voltons' 'Ekam Essencia'\n",
            " 'Valcavado de Traslascuestas' 'Oscar Tobia Gran Reserva Rioja'\n",
            " 'La Baixada' 'Seleccion' 'Cava El Tros Nou Pinot Noir'\n",
            " 'Los Dominios de Berceo Prefiloxerico' 'Old & Plus Amontillado'\n",
            " 'Sao Expressiu' 'Onomastica Rioja Reserva' 'Vina Arana Gran Reserva'\n",
            " 'Carinena Parcela 15 Vinas Viejas' 'Vobiscum' 'La Navilla'\n",
            " 'Merlot - Syrah' 'Casta Diva Cosecha Miel Moscatel Dulce'\n",
            " 'Pago de Las Costanas' 'Cava Gran Reserva Familiar Millenium Brut'\n",
            " 'Zona Zepa Monastrell' 'Alma Tobia Blanco' 'Garnacha Vinas Centenarias'\n",
            " 'El Jardin de las Iguales Vinedo Historico Garnacha'\n",
            " 'Silvanus Edicion Limitada Ribera del Duero' 'San Valentin Parellada'\n",
            " 'Vina Tondonia Reserva' 'PSI' 'Ribera del Duero Crianza'\n",
            " 'Mas La Plana Cabernet Sauvignon' 'Crianza Tinto'\n",
            " 'Bosque de Matasnos Etiqueta Blanca' 'Matusalem Sherry VORS'\n",
            " 'Reserva Seleccion de la Familia' 'Apostoles 30 Years Old Sherry'\n",
            " 'Gran Reserva Rioja (Finca Ygay)' 'El Puntido'\n",
            " 'Don Guido Pedro Ximenez Solera Especial Aged 20 Years'\n",
            " 'Gran Reserva Rioja' 'La Baraja' 'Finca Malaveina' 'Reserva XR'\n",
            " 'Alenza Ribera del Duero Gran Reserva' 'Chardonnay Fermentado en Barrica'\n",
            " 'Alicante Bouschet by Tarima' 'Oloroso Tradicion Vors 30 Years'\n",
            " 'Dominio de Atauta' 'Crianza' 'Laurel' 'Seleccion La Aguilera'\n",
            " 'Finca Martelo' 'Pedro Ximenez Murillo Seleccion del Centenario' 'Mirto'\n",
            " 'I Gran Reserva' 'Roda Reserva Rioja' 'Rioja Vina Coqueta'\n",
            " 'Vermello Vermu' 'Capellania Reserva' 'Los Tabaqueros'\n",
            " 'Torre Albeniz Reserva Ribera del Duero' 'Finca El Otero'\n",
            " 'Familia Comenge Reserva' 'Tierra Alta de 2 Cotas Reserva'\n",
            " 'Fagus de Coto de Hayas Garnacha' 'Finca Terrerazo' 'Godello'\n",
            " 'Godina Garnacha' 'QS' 'Don Miguel Comenge Reserva' '3.9'\n",
            " 'Finca Iscorta Gran Reserva' 'Finca Biniagual Veran' 'Brega Garnacha'\n",
            " 'Elite' 'La Mar' 'Nelin Priorat' 'Arcos de la Frontera' 'Albarino'\n",
            " 'Cepas Vellas Godello' 'Las Sabias' 'Cerro Anon Rioja Gran Reserva'\n",
            " 'Ekam' 'Masdeu' 'Pantocrator' 'Senorio de Cuzcurrita Rioja'\n",
            " 'Silencio de Miros Ribera Del Duero' 'Queiron Mi Lugar'\n",
            " 'Purgatori Costers del Segre' 'Perfume de Sonsierra' 'Chardonnay Roure'\n",
            " 'Rioja Graciano' 'ARX Arcos de la Frontera'\n",
            " 'Navarra Reserva Coleccion 125' 'Venus' 'Grillo' 'Prieto Picudo' 'Sofia'\n",
            " 'Finca Cuesta Clara Raro Reserva' 'Fermentado En Barrica Blanco'\n",
            " 'Ribera Del Duero Gran Reserva'\n",
            " 'Vinya La Scala Gran Reserva Cabernet Sauvignon'\n",
            " 'Atteca Armas Garnacha Old Vines' 'Syrah (Shiraz)' 'Campo Eliseo'\n",
            " 'Vinas Viejas Tempranillo' 'Vitium Reserva' 'Lo Cabalo Reserva'\n",
            " 'Finca Matambres' 'Suzzane Rioja' 'Giro de Abargues'\n",
            " 'Reserva Vermouth Rojo' 'Punta Esencia' 'Pla dels Angels Rosado' 'Uro'\n",
            " 'Tras da Vina Albarino' 'Masia Carreras Negre' 'Branco Vermu'\n",
            " 'Palmeri Navalta Garnacha' 'La Plazuela' 'Solar de Estraunza Reserva'\n",
            " 'III a.C' 'Matallana' 'Rioja Norte' 'Artigas' 'Julia'\n",
            " 'Jerez-Xeres-Sherry 30 Year Old Oloroso VORS' 'Pancrudo' 'Aurea'\n",
            " 'Coleccion Syrah' \"Flor de Primavera Peraj Ha'abib\"\n",
            " 'Altos de Losada El Cepon' 'Gran Vino Blanco'\n",
            " 'Crianza Vendimia Seleccionada' 'Vermouth Reserva' 'Finca Azaya Premium'\n",
            " 'Ribera del Duero Tinto' 'No. 20' 'La Casilla Amontillado' 'Palo Cortado'\n",
            " 'Martelo Reserva' 'Vintage Albarino' 'Cardenal Palo Cortado VORS'\n",
            " 'Vallegarcia Viognier' 'Finca la Atalaya Reserva'\n",
            " 'Clos Cypres Vinyes Velles (Old Vines)' 'Castineiro Albarino'\n",
            " 'Amontillado V.O.R.S' 'Altar' 'Gran Barquero Palo Cortado Solera 25 Anos'\n",
            " 'Toro Gran Elias Mora' 'Arnau Oller Seleccio de la Familia' 'Orbus'\n",
            " 'Malbec' 'Altos de Losada' 'Reserva Especial Rioja' 'La Time'\n",
            " 'Vendimia Tardia Moscatel' 'Hiru 3 Rioja Racimos' 'Triaca'\n",
            " 'Amontillado 51-1a 30 Years VORS Sherry' 'Cyclo' 'Maimo Garnatxa'\n",
            " 'Fos Baranda' 'Finca la Oracion' 'Albarino Pedralonga' 'Mas de Masos'\n",
            " 'Com Tu' 'El Rocallis' 'Iugiter' 'Ultreia Valtuille Mencia'\n",
            " 'La Chispa Negra' 'Sauvignon Blanc' 'Clos Adrien' 'Laderas Rioja'\n",
            " 'Blanco de Parcela' 'Finca la Beata Bobal' 'Resalte Expresion'\n",
            " 'Cava Brut Milesime' 'Syrah de Matasnos'\n",
            " 'Massipa de Scala Dei Garnatxa Blanca - Xenin' 'Nunci Negre'\n",
            " 'Oloroso Extra Viejo 1/7' 'Musivari Gran Reserva Brut Nature'\n",
            " 'Faustino de Autor Reserva Especial' 'Vinas Viejas Aguilera'\n",
            " 'Juan Piernas Finca El Paso Malo Monastrell' 'Pedra de Guix'\n",
            " 'Vinyes Velles de Samso' 'Malvasia' 'La Bota 69 de Amontillado'\n",
            " 'Antigues Reserves' 'Baron de Chirel Verdejo Vinas Centenarias'\n",
            " 'Milagros de Figuero' 'Las Botas Palo Cortado Horizontal'\n",
            " 'La Riva Fino Balbaina Alta' 'Coma Bruna'\n",
            " 'Palo Cortado de la Cruz de 1767' 'Grano a Grano Tempranillo' \"S'Alou\"\n",
            " 'Altos R Pigeage' 'Finca Monteviejo' 'Habis' '5o Ano' 'Gaminde'\n",
            " 'Varietal Fermentacion Lenta' 'El Cordero y las Virgenes'\n",
            " 'Selection 1884 Vermouth Gran Reserva' 'Garnacha Tintorera'\n",
            " 'Penalba Lopez Blanco' 'Cabernet' 'El Cuentista'\n",
            " 'Tahulla Moscatel Blanco Seco' 'Juegabolos' 'Sketch' 'Montsalvat'\n",
            " 'Sio Negre' 'Pago de Otazu Chardonnay Con Crianza'\n",
            " 'Verdejo Fermentado en Barrica' 'Vinyes Altes de Les Garrigues Vi Blanc'\n",
            " 'Vina Centenaria Mencia' 'Cerro del Lobo Syrah' 'Summum Monastrell'\n",
            " 'Finca La Herradura' 'Alma de Mar Albarino' 'Canasta 20 Anos Cream'\n",
            " 'Rioja Anadas Frias' 'Monreal' '8 Vents Mallorca'\n",
            " \"Vd'O 1 Samso - Pissarra\" 'Cava Gran Reserva La Capella Brut'\n",
            " 'Coleccion No. 3 Cosecha' 'Albarino Sobre Lias' 'Nobbis'\n",
            " 'Rara Avis Prieto Picudo' 'Sensal' 'Campo Eliseo Blanco' 'Blanc de Neu'\n",
            " 'T3rno Seleccion de 3 Parcelas Ribera del Duero' 'Fino La Barajuela'\n",
            " 'Parcelas de Maturana Tinta Coleccion Rioja' 'Reserva Real'\n",
            " 'Attis Embaixador Albarino' 'Vitola Reserva' 'San Cucufate Monasterio'\n",
            " 'Tras Los Muros Albarino' 'CM Tinto'\n",
            " 'La Loma & Los Santos Garnacha Blanca - Macabeo'\n",
            " 'Gratallops Escanya-Vella' 'Lalomba Finca Ladero' 'Oloroso En Rama'\n",
            " 'El Reventon Cebreros'\n",
            " 'Amontillado Napoleon Vinos Viejos 30 Year Old Sherry'\n",
            " 'Navarra Vendimia Tardia Coleccion 125' 'Manar dos Seixas'\n",
            " '200 Monges Edicion Exclusiva Blanco Reserva' 'Eolic Sauvignon Blanc'\n",
            " 'Finca Valmediano Tinta de Toro 16 Meses Barrica' 'Cantos del Diablo'\n",
            " 'Teofilo Reyes Crianza' 'Falguera' 'Epistem No. 3'\n",
            " 'Angel Ribera del Duero' 'Pleret' 'A Torna dos Pasas Escolma Ribeiro'\n",
            " 'Costers Del Segre 1780' 'Ines' 'Honoris' 'La Revelia Godello'\n",
            " 'Club Rioja Reserva' 'Camino del Abuelo Vinas Viejas'\n",
            " 'La Morera de San Lazaro' 'Quintanilla' 'Salvaxe'\n",
            " 'Vi De Glass Gewurztraminer' 'Finca Los Quemados' 'Albarino (O Rosal)'\n",
            " 'Rioja' 'Vino de Autor Ribeiro Blanco'\n",
            " 'Argila Reserva 3 Anys Brut Nature' 'Octogenarius' 'Finca La Pedrissa'\n",
            " 'Magister' 'Ribera del Duero Vendimia Seleccionada VT'\n",
            " 'Porcellanic VI Xarel-lo Sur Lie' 'Sibila'\n",
            " 'Emporda Reserva Especial Don Miguel Mateu' '200 Cestos Godello'\n",
            " 'Heaven & Hell' 'Cabrida Montsant' 'Suane Blanco' 'Pinot Noir'\n",
            " 'Cerro La Isa Blanco' 'Cuvee Verdejo' 'Anadelia' 'Tabuerniga'\n",
            " 'Seleccion Especial Verdejo' \"Coster d'en Fornos\" 'Malvasia Volcanica'\n",
            " 'Laderas de Inurrieta' 'El Velado Tinto' 'Blanco Afrutado' 'A Pita Cega'\n",
            " 'Naiades' 'Fuenmayor Gran Reserva' 'Mirador de Navajas Reserva Rioja'\n",
            " 'Coleccion Roberto Amillo Amontillado' '1730 Amontillado'\n",
            " 'Cerro La Isa Garnacha' 'Nus del Terrer' 'Nivel' 'Le Rose'\n",
            " 'Pago de las Sabinas' 'Old & Plus Oloroso'\n",
            " 'Coleccion Roberto Amillo Palo Cortado' 'Gueta-Lupia' 'Marmajuelo'\n",
            " 'Cava Reserva Especial Chardonnay Brut Nature'\n",
            " 'Ribera del Duero Vendimia Seleccionada' 'No. 23'\n",
            " 'Las Iruelas El Tiemblo' 'V Dulce de Invierno' 'Diego Magana' 'Graciano'\n",
            " 'Cerro Las Cuevas Seleccion Terroir' 'Altos R Pigeage Graciano' 'Ronda'\n",
            " 'Nisia Las Suertes Verdejo Old Vines' 'Territori' 'Alomado'\n",
            " 'Selma de Nin Blanco' 'Senda de Los Olivos Roble' 'Mucho Mas Tinto'\n",
            " 'Coto de Imaz Rioja Gran Reserva' 'Vina Alberdi Reserva'\n",
            " 'Rias Baixas Albarino Atlantico' '27 Ribera del Duero'\n",
            " 'Terras Gauda O Rosal' 'Salmos' 'Vina Bosconia Reserva' 'Louro Godello'\n",
            " 'La Atalaya del Camino' 'Rioja 150 Aniversario' 'Veraton Garnacha'\n",
            " 'Alexander vs. The Ham Factory' 'Vina Alberdi Crianza'\n",
            " 'Taberner Tierra de Cadiz' 'Gessami' 'Finest Old Harvest Medium'\n",
            " 'Ribera del Duero Red' 'Corimbo I' 'Vermut Rojo'\n",
            " 'Vina Tondonia Reserva Blanco' 'Reserva 5 Ano'\n",
            " 'Del Duque Amontillado Sherry VORS' 'Les Terrasses Velles Vinyes Priorat'\n",
            " 'Les Terrasses Laderas de Pizarra' 'Inici' '5 Finques (Fincas) Reserva'\n",
            " 'Martinet Bru (Garnatxa - Syrah)' 'Ribera Del Duero Reserva' 'Muscat'\n",
            " 'Angeles de Amaren Tempranillo - Graciano' 'Bassus Pinot Noir'\n",
            " 'Sericis Cepas Viejas Monastrell' 'Rioja Reserva Fincas de Ganuza'\n",
            " 'Corpinnat Terrers Brut Nature'\n",
            " 'Dos Cortados Palo Cortado Solera Especial Aged 20 Years'\n",
            " 'Oscar Tobia Reserva Rioja' 'Rioja Satinela Blanco Semidulce'\n",
            " 'Clos del Portal Negre de Negres' 'Solideo' 'Preludio'\n",
            " 'Reserva Tempranillo' 'Coma Vella Priorat' 'Las Ocho (8) Tinto'\n",
            " 'Pago de los Balagueses Syrah' 'Bagus Ribera del Duero'\n",
            " 'Formiga de Vellut' 'Tierra Alta En 2 Maderas' 'Propiedad  Rioja'\n",
            " 'Reserva Especial Icon Edition' 'Antique Palo Cortado'\n",
            " 'Vina Lanciano Reserva'\n",
            " 'Jalifa Amontillado Rare Old Dry Solera Especial Aged 30 Years'\n",
            " 'La Felisa' 'Milmanda' 'Envidiacochina (Tete de Cuvee)' 'Adaro'\n",
            " 'Fondillon Gran Reserva' 'Monastrell - Syrah Finca Espolla' 'Santa Rosa'\n",
            " 'Roc Nu' 'Rias Baixas Albarino Finca Valinas' 'Treixadura'\n",
            " 'Candela Cream Dulce Sweet' 'Nounat' 'Les Brugueres']\n"
          ]
        }
      ]
    },
    {
      "cell_type": "code",
      "source": [
        "df['year'].value_counts()\n",
        "print(df['year'].unique())"
      ],
      "metadata": {
        "colab": {
          "base_uri": "https://localhost:8080/"
        },
        "id": "J-zKFxXVjTeX",
        "outputId": "f527c77f-df0a-488f-8874-8f50133e52e0"
      },
      "execution_count": 226,
      "outputs": [
        {
          "output_type": "stream",
          "name": "stdout",
          "text": [
            "['2013' '2018' '2009' '1999' '1996' '1998' '2010' '1995' '2015' '2011'\n",
            " '2016' '1970' '1946' '1962' '2019' '2004' 'N.V.' '1931' '1979' '2005'\n",
            " '2020' '2014' '1985' '1929' '2007' '2012' '2017' '2008' nan '2006' '2000'\n",
            " '2003' '2002' '1991' '1994' '1990' '1989' '1987' '1986' '1981' '2001'\n",
            " '1968' '1964' '1982' '1974' '1983' '1955' '1980' '1972' '1953' '1958'\n",
            " '1942' '1965' '1992' '1973' '1997' '1967' '1975' '1910' '1961' '1954'\n",
            " '1988' '1969' '1951' '1928' '1976' '1949' '2021' '1959' '1922' '1978'\n",
            " '1925']\n"
          ]
        }
      ]
    },
    {
      "cell_type": "code",
      "source": [
        "df['rating'].value_counts()\n",
        "print(df['rating'].unique())"
      ],
      "metadata": {
        "colab": {
          "base_uri": "https://localhost:8080/"
        },
        "id": "LBY0n9AJjTaB",
        "outputId": "7b4e1abf-98ed-4e94-e052-b643db25f888"
      },
      "execution_count": 227,
      "outputs": [
        {
          "output_type": "stream",
          "name": "stdout",
          "text": [
            "[4.9 4.8 4.7 4.6 4.5 4.4 4.3 4.2]\n"
          ]
        }
      ]
    },
    {
      "cell_type": "code",
      "source": [
        "df['num_reviews'].value_counts()\n",
        "print(df['num_reviews'].unique())"
      ],
      "metadata": {
        "colab": {
          "base_uri": "https://localhost:8080/"
        },
        "id": "zha4DtaZjTVa",
        "outputId": "851d7e4a-96af-4b42-9de7-595894af0375"
      },
      "execution_count": 228,
      "outputs": [
        {
          "output_type": "stream",
          "name": "stdout",
          "text": [
            "[   58    31  1793  1705  1309  1209  1201   926   643   630   591   454\n",
            "   438   417   398   372   295   250   217   211   174   172   145   139\n",
            "   125   118   103    87    84    79    70    69    68    56    52    50\n",
            "    40    32    28    26 12421  5266  4350  3929  3437  3164  3127  2935\n",
            "  2826  2765  2480  2419  2177  1892  1199  1141   940   935   690   685\n",
            "   675   593   560   543   511   476   442   425   393   347   312   308\n",
            "   303   300   292   291   285   280   268   264   256   254   251   243\n",
            "   240   225   220   214   205   203   196   184   173   171   137   136\n",
            "   134   133   132   131   127   123   117   116   112   110   108   102\n",
            "   100    94    92    89    82    80    74    72    67    65    64    63\n",
            "    60    59    57    53    51    49    47    45    42    41    39    37\n",
            "    35    33    30    29    27  6803  5938  5545  5116  4747  4685  4516\n",
            "  3383  3239  2416  2208  1608  1363  1108  1015   936   840   790   700\n",
            "   693   595   516   410   405   400   388   369   323   313   304   293\n",
            "   286   274   244   242   231   222   218   202   200   197   186   176\n",
            "   169   165   164   160   159   157   153   150   147   146   143   142\n",
            "   135   128   124   122   115   114   113   111   107   105    99    98\n",
            "    97    95    93    91    90    86    85    83    75    66    48    46\n",
            "    44    43    38    36    34    25  7529  7435  7237  5863  5372  5365\n",
            "  4979  4935  4411  3521  3443  3148  3118  2887  2858  2712  2710  2551\n",
            "  2530  2228  2220  2207  2144  1910  1864  1520  1503  1393  1346  1345\n",
            "  1236  1192  1163  1148  1094  1089  1014  1012   990   961   955   854\n",
            "   838   813   729   719   666   642   629   574   550   529   505   503\n",
            "   501   500   499   493   488   477   469   462   420   406   384   365\n",
            "   353   336   322   318   316   301   297   261   249   246   230   229\n",
            "   226   221   213   207   201   194   190   189   188   187   178   170\n",
            "   163   162   161   156   154   144   141   140   126   121   106   104\n",
            "    96    88    81    78    76    73    71    61    55    54  6395  5732\n",
            "  5614  5204  5109  4851  4625  4357  4121  3589  3456  3406  3327  3197\n",
            "  3095  3093  3089  2546  2418  2370  2133  2080  2053  1993  1949  1948\n",
            "  1943  1853  1842  1777  1701  1561  1519  1514  1475  1463  1438  1372\n",
            "  1339  1326  1269  1266  1255  1226  1172  1166  1158  1121  1104  1098\n",
            "  1087  1069  1064  1048  1047  1039  1040  1018   995   966   941   927\n",
            "   925   915   852   827   825   812   809   799   798   787   783   778\n",
            "   746   726   695   683   681   667   664   639   624   618   617   609\n",
            "   581   575   561   542   527   523   514   512   506   498   495   485\n",
            "   481   471   450   443   436   421   414   412   389   376   367   363\n",
            "   360   351   349   343   334   333   328   319   309   306   305   298\n",
            "   296   269   267   262   259   258   252   245   241   239   236   234\n",
            "   233   224   219   215   208   206   204   195   185   180   177   168\n",
            "   166   158   155   152   151   149   148   130   120   119   109   101\n",
            "    77    62 10273  9092  7401  7293  6521  6345  5152  4994  4767  4457\n",
            "  4266  4023  3997  3829  3660  3620  3608  3587  3524  2990  2936  2923\n",
            "  2911  2844  2783  2705  2575  2453  2423  2341  2295  2241  2062  2013\n",
            "  1924  1914  1884  1846  1824  1797  1749  1743  1645  1638  1615  1544\n",
            "  1528  1525  1493  1471  1465  1452  1367  1362  1330  1282  1247  1230\n",
            "  1181  1178  1119  1118  1116  1114  1067  1057  1022  1011   930   929\n",
            "   916   912   901   900   885   878   835   828   818   814   811   760\n",
            "   754   749   740   728   724   723   716   687   682   676   674   665\n",
            "   663   661   658   641   613   605   603   598   592   590   582   577\n",
            "   569   567   559   556   553   535   533   530   522   517   474   473\n",
            "   468   463   461   456   453   452   449   445   431   429   427   424\n",
            "   422   419   418   411   407   404   397   375   374   371   370   368\n",
            "   366   364   358   355   345   344   327   317   315   299   290   287\n",
            "   284   281   279   278   275   272   270   263   260   257   247   237\n",
            "   232   227   228   223   216   210   209   198   193   192   191   175\n",
            "   167   138   129 32624 16505  9098  8318  7825  7294  6567  6532  6256\n",
            "  6163  5802  5178  4610  4127  4091  3825  3788  3725  3648  3545  3453\n",
            "  3354  3225  3224  3101  2901  2820  2788  2685  2676  2478  2375  2364\n",
            "  2271  2234  2135  2074  2050  2022  1981  1931  1921  1768  1688  1686\n",
            "  1665  1627  1611  1573  1355  1343  1341  1337  1319  1308  1301  1267\n",
            "  1164  1159  1155  1125  1095  1093  1086  1078  1070  1058  1043  1030\n",
            "  1016  1008   998   970   969   964   918   897   883   879   876   865\n",
            "   855   842   834   832   806   777   776   769   753   745   733   732\n",
            "   731   721   707   696   692   684   671   668   648   647   645   633\n",
            "   628   627   622   612   611   600   599   587   576   570   558   557\n",
            "   555   540   528   520   519   518   513   490   487   483   484   480\n",
            "   466   459   447   441   439   433   432   423   415   402   395   392\n",
            "   390]\n"
          ]
        }
      ]
    },
    {
      "cell_type": "markdown",
      "source": [
        "#Dropped Column\n",
        "Because this column is telling us that all the wine was made in Spain, we can drop it and not have it affect our dataset."
      ],
      "metadata": {
        "id": "g3KogcX4lQjk"
      }
    },
    {
      "cell_type": "code",
      "source": [
        "df['country'].value_counts()"
      ],
      "metadata": {
        "colab": {
          "base_uri": "https://localhost:8080/"
        },
        "id": "M5esSEP0jTOB",
        "outputId": "2a41eb3b-99d8-46f2-86ca-c980f5c7bac0"
      },
      "execution_count": 229,
      "outputs": [
        {
          "output_type": "execute_result",
          "data": {
            "text/plain": [
              "Espana    2048\n",
              "Name: country, dtype: int64"
            ]
          },
          "metadata": {},
          "execution_count": 229
        }
      ]
    },
    {
      "cell_type": "code",
      "source": [
        "df = df.drop(columns = 'country')"
      ],
      "metadata": {
        "id": "d9OLtEUblfcX"
      },
      "execution_count": 230,
      "outputs": []
    },
    {
      "cell_type": "code",
      "source": [
        "df['region'].value_counts()\n",
        "print(df['region'].unique())"
      ],
      "metadata": {
        "id": "EbNkifvYjSyN",
        "colab": {
          "base_uri": "https://localhost:8080/"
        },
        "outputId": "cecd1b0d-f874-479c-ca66-3057e1f6e37f"
      },
      "execution_count": 231,
      "outputs": [
        {
          "output_type": "stream",
          "name": "stdout",
          "text": [
            "['Toro' 'Vino de Espana' 'Ribera del Duero' 'Montilla-Moriles' 'Jumilla'\n",
            " 'Jerez-Xeres-Sherry' 'Priorato' 'Rioja' 'Bierzo' 'Castilla y Leon'\n",
            " 'Campo de Borja' 'Cadiz' 'Cava' 'Jerez Palo Cortado' 'Manzanilla'\n",
            " 'Valdeorras' 'Emporda' 'Rioja Alta' 'Alicante' 'Somontano'\n",
            " 'Dominio de Valdepusa' 'Ribeiro' 'Mallorca' 'Yecla' 'Cigales'\n",
            " 'Utiel-Requena' 'Navarra' 'Rioja Alavesa' 'Costers del Segre'\n",
            " 'Sardon de Duero' 'Malaga' 'Cataluna' 'Rueda' 'Jerez Pedro Ximenes (PX)'\n",
            " 'Montsant' 'Conca de Barbera' 'Rias Baixas' 'Jerez Amontillado'\n",
            " 'Tierra del Vino de Zamora' 'Penedes' 'Dehesa del Carrizal' 'Madrid'\n",
            " 'Carinena' 'Condado de Huelva' 'Almansa' 'Jerez Cream' 'Valencia'\n",
            " 'Sierras de Malaga' 'Ribeira Sacra' 'El Terrerazo' 'Jerez Oloroso'\n",
            " 'Castilla' 'Alella' 'Pla i Llevant' 'Pla de Bages' 'Pago Calzadilla'\n",
            " 'Andalucia' 'Monterrei' 'Ribera del Gallego-Cinco Villas' 'Aragon'\n",
            " 'Galicia' 'La Palma' 'Binissalem-Mallorca' 'Calatayud' 'Arinzano'\n",
            " 'Tarragona' 'Extremadura' 'Murcia' 'La Mancha' 'Otazu' 'Valdejalon'\n",
            " 'Mentrida' 'Terra Alta' 'Arribes' 'Gran Canaria' 'Abona']\n"
          ]
        }
      ]
    },
    {
      "cell_type": "code",
      "source": [
        "df['price'].value_counts()\n",
        "print(df['price'].unique())"
      ],
      "metadata": {
        "id": "nmCsONZ7keQ5",
        "colab": {
          "base_uri": "https://localhost:8080/"
        },
        "outputId": "ad4b115a-fde0-4ad3-d22b-80ae9a0ad26a"
      },
      "execution_count": 232,
      "outputs": [
        {
          "output_type": "stream",
          "name": "stdout",
          "text": [
            "[995.   313.5  324.95 ...  16.76  24.45  31.63]\n"
          ]
        }
      ]
    },
    {
      "cell_type": "code",
      "source": [
        "df['type'].value_counts()\n",
        "print(df['type'].unique())"
      ],
      "metadata": {
        "id": "JE_N9Z8SkeN3",
        "colab": {
          "base_uri": "https://localhost:8080/"
        },
        "outputId": "c6b7acb0-53fd-4e1a-df8c-dfd8edc1c9ba"
      },
      "execution_count": 233,
      "outputs": [
        {
          "output_type": "stream",
          "name": "stdout",
          "text": [
            "['Toro Red' 'Tempranillo' 'Ribera Del Duero Red' 'Pedro Ximenez' 'Red'\n",
            " 'Sherry' 'Priorat Red' 'Rioja Red' 'Rioja White' 'Grenache' nan 'Cava'\n",
            " 'Verdejo' 'Syrah' 'Monastrell' 'Mencia' 'Sparkling' 'Montsant Red'\n",
            " 'Albarino' 'Chardonnay' 'Cabernet Sauvignon' 'Sauvignon Blanc']\n"
          ]
        }
      ]
    },
    {
      "cell_type": "code",
      "source": [
        "df['body'].value_counts()\n",
        "print(df['body'].unique())"
      ],
      "metadata": {
        "id": "OfKetBRKkeLM",
        "colab": {
          "base_uri": "https://localhost:8080/"
        },
        "outputId": "41341577-1cb9-4478-8dcb-c9ca30d998e4"
      },
      "execution_count": 234,
      "outputs": [
        {
          "output_type": "stream",
          "name": "stdout",
          "text": [
            "[ 5.  4.  3. nan  2.]\n"
          ]
        }
      ]
    },
    {
      "cell_type": "code",
      "source": [
        "df['acidity'].value_counts()\n",
        "print(df['acidity'].unique())"
      ],
      "metadata": {
        "id": "YRproteAkeIJ",
        "colab": {
          "base_uri": "https://localhost:8080/"
        },
        "outputId": "1fe9d60b-c6e6-4f5c-b249-29a6280c961a"
      },
      "execution_count": 235,
      "outputs": [
        {
          "output_type": "stream",
          "name": "stdout",
          "text": [
            "[ 3.  2.  1. nan]\n"
          ]
        }
      ]
    },
    {
      "cell_type": "code",
      "source": [
        "df.info()"
      ],
      "metadata": {
        "id": "u8EW7q4inSBF",
        "colab": {
          "base_uri": "https://localhost:8080/"
        },
        "outputId": "ae3a8196-3f29-4872-be52-15b15187d0dc"
      },
      "execution_count": 236,
      "outputs": [
        {
          "output_type": "stream",
          "name": "stdout",
          "text": [
            "<class 'pandas.core.frame.DataFrame'>\n",
            "Int64Index: 2048 entries, 0 to 6100\n",
            "Data columns (total 10 columns):\n",
            " #   Column       Non-Null Count  Dtype  \n",
            "---  ------       --------------  -----  \n",
            " 0   winery       2048 non-null   object \n",
            " 1   wine         2048 non-null   object \n",
            " 2   year         2046 non-null   object \n",
            " 3   rating       2048 non-null   float64\n",
            " 4   num_reviews  2048 non-null   int64  \n",
            " 5   region       2048 non-null   object \n",
            " 6   price        2048 non-null   float64\n",
            " 7   type         1942 non-null   object \n",
            " 8   body         1777 non-null   float64\n",
            " 9   acidity      1777 non-null   float64\n",
            "dtypes: float64(4), int64(1), object(5)\n",
            "memory usage: 176.0+ KB\n"
          ]
        }
      ]
    },
    {
      "cell_type": "markdown",
      "source": [
        "#Missing Values\n",
        "\n",
        "I will be dropping the missing values in the year column and in the type column.  I will be adding the values in the body and acidity column.  The reason I am dropping the year and type is because it is less than 5% of the total dataset so it won't affect the data too much.  Now we have a dataset with values that are filled or dropped."
      ],
      "metadata": {
        "id": "n1e9Lh7jnm0H"
      }
    },
    {
      "cell_type": "code",
      "source": [
        "df.isna().sum()"
      ],
      "metadata": {
        "id": "94y4EJqwkeE9",
        "colab": {
          "base_uri": "https://localhost:8080/"
        },
        "outputId": "9faee772-decb-4ca0-95ad-53b89912aacc"
      },
      "execution_count": 237,
      "outputs": [
        {
          "output_type": "execute_result",
          "data": {
            "text/plain": [
              "winery           0\n",
              "wine             0\n",
              "year             2\n",
              "rating           0\n",
              "num_reviews      0\n",
              "region           0\n",
              "price            0\n",
              "type           106\n",
              "body           271\n",
              "acidity        271\n",
              "dtype: int64"
            ]
          },
          "metadata": {},
          "execution_count": 237
        }
      ]
    },
    {
      "cell_type": "code",
      "source": [
        "df.dropna(subset= ['year'], inplace=True)\n",
        "df.dropna(subset= ['type'], inplace=True)\n",
        "df.isna().sum()"
      ],
      "metadata": {
        "id": "rg3rPV_okeCE",
        "colab": {
          "base_uri": "https://localhost:8080/"
        },
        "outputId": "e92ff20d-bdad-44e1-dd2c-f0714d5a4a08"
      },
      "execution_count": 238,
      "outputs": [
        {
          "output_type": "execute_result",
          "data": {
            "text/plain": [
              "winery           0\n",
              "wine             0\n",
              "year             0\n",
              "rating           0\n",
              "num_reviews      0\n",
              "region           0\n",
              "price            0\n",
              "type             0\n",
              "body           165\n",
              "acidity        165\n",
              "dtype: int64"
            ]
          },
          "metadata": {},
          "execution_count": 238
        }
      ]
    },
    {
      "cell_type": "code",
      "source": [
        "median_body=df['body'].median()\n",
        "df['body'].fillna(median_body, inplace=True)\n",
        "df.isna().sum()"
      ],
      "metadata": {
        "id": "yB1-vhtLkd-8",
        "colab": {
          "base_uri": "https://localhost:8080/"
        },
        "outputId": "19a23940-91f1-4b4b-cc8f-b3d215b7ec13"
      },
      "execution_count": 239,
      "outputs": [
        {
          "output_type": "execute_result",
          "data": {
            "text/plain": [
              "winery           0\n",
              "wine             0\n",
              "year             0\n",
              "rating           0\n",
              "num_reviews      0\n",
              "region           0\n",
              "price            0\n",
              "type             0\n",
              "body             0\n",
              "acidity        165\n",
              "dtype: int64"
            ]
          },
          "metadata": {},
          "execution_count": 239
        }
      ]
    },
    {
      "cell_type": "code",
      "source": [
        "median_acidity=df['acidity'].median()\n",
        "df['acidity'].fillna(median_acidity, inplace=True)\n",
        "df.isna().sum()"
      ],
      "metadata": {
        "id": "Zjsb44gCkd8Y",
        "colab": {
          "base_uri": "https://localhost:8080/"
        },
        "outputId": "6913a0b4-b9c5-458e-f098-4d22fee30bc6"
      },
      "execution_count": 240,
      "outputs": [
        {
          "output_type": "execute_result",
          "data": {
            "text/plain": [
              "winery         0\n",
              "wine           0\n",
              "year           0\n",
              "rating         0\n",
              "num_reviews    0\n",
              "region         0\n",
              "price          0\n",
              "type           0\n",
              "body           0\n",
              "acidity        0\n",
              "dtype: int64"
            ]
          },
          "metadata": {},
          "execution_count": 240
        }
      ]
    },
    {
      "cell_type": "markdown",
      "source": [
        "#Univariate visuals for the target and all features.\n",
        "Identified outliers.\n",
        "\n",
        "Acidity and Body have some values that are not as close to each other as other values, but these are not outliers.  There aren't any here."
      ],
      "metadata": {
        "id": "66ql_md7ZGkg"
      }
    },
    {
      "cell_type": "code",
      "source": [
        "df['rating'].hist()\n",
        "ax=df['rating'].hist()\n",
        "ax=df['rating'].hist(bins = 10, edgecolor = 'black')\n",
        "ax.set_title('Ratings')\n",
        "ax. set_xlabel(\"rating\")\n",
        "ax.set_ylabel('rating')"
      ],
      "metadata": {
        "id": "6BLTUQ_Skd5b",
        "colab": {
          "base_uri": "https://localhost:8080/",
          "height": 489
        },
        "outputId": "e5df1bf8-0975-43f4-9152-45298c08847d"
      },
      "execution_count": 241,
      "outputs": [
        {
          "output_type": "execute_result",
          "data": {
            "text/plain": [
              "Text(0, 0.5, 'rating')"
            ]
          },
          "metadata": {},
          "execution_count": 241
        },
        {
          "output_type": "display_data",
          "data": {
            "text/plain": [
              "<Figure size 640x480 with 1 Axes>"
            ],
            "image/png": "[encoded data removed]"
          },
          "metadata": {}
        }
      ]
    },
    {
      "cell_type": "code",
      "source": [
        "df['wine'].hist()\n",
        "ax=df['wine'].hist()\n",
        "ax=df['wine'].hist(bins = 20, edgecolor = 'black')\n",
        "ax.set_title('Wine')\n",
        "ax. set_xlabel(\"wine\", rotation = 90)\n",
        "ax.set_ylabel('wine')"
      ],
      "metadata": {
        "id": "tT5xOASJkd2Y",
        "colab": {
          "base_uri": "https://localhost:8080/",
          "height": 507
        },
        "outputId": "6ac5f3c1-1b31-4476-df3f-dd9a3b8eb7eb"
      },
      "execution_count": 249,
      "outputs": [
        {
          "output_type": "execute_result",
          "data": {
            "text/plain": [
              "Text(0, 0.5, 'wine')"
            ]
          },
          "metadata": {},
          "execution_count": 249
        },
        {
          "output_type": "display_data",
          "data": {
            "text/plain": [
              "<Figure size 640x480 with 1 Axes>"
            ],
            "image/png": "[encoded data removed]"
          },
          "metadata": {}
        }
      ]
    },
    {
      "cell_type": "code",
      "source": [
        "df['year'].hist()\n",
        "ax=df['year'].hist()\n",
        "ax=df['year'].hist(bins = 20, edgecolor = 'black')\n",
        "ax.set_title('year')\n",
        "ax. set_xlabel(\"year\", rotation = 90)\n",
        "ax.set_ylabel('year')"
      ],
      "metadata": {
        "id": "KZfecKRbkdyw",
        "colab": {
          "base_uri": "https://localhost:8080/",
          "height": 506
        },
        "outputId": "b2e24806-2fbe-4523-8d7d-c2a01ff44e2b"
      },
      "execution_count": 252,
      "outputs": [
        {
          "output_type": "execute_result",
          "data": {
            "text/plain": [
              "Text(0, 0.5, 'year')"
            ]
          },
          "metadata": {},
          "execution_count": 252
        },
        {
          "output_type": "display_data",
          "data": {
            "text/plain": [
              "<Figure size 640x480 with 1 Axes>"
            ],
            "image/png": "[encoded data removed]"
          },
          "metadata": {}
        }
      ]
    },
    {
      "cell_type": "code",
      "source": [
        "df['winery'].hist()\n",
        "ax=df['winery'].hist()\n",
        "ax=df['winery'].hist(bins = 20, edgecolor = 'black')\n",
        "ax.set_title('Wineries')\n",
        "ax. set_xlabel(\"winery\", rotation = 90)\n",
        "ax.set_ylabel('winery')"
      ],
      "metadata": {
        "id": "3vog5SZ9kdvl",
        "colab": {
          "base_uri": "https://localhost:8080/",
          "height": 521
        },
        "outputId": "94ac5302-20a6-40eb-9dc8-8feabd34a663"
      },
      "execution_count": 253,
      "outputs": [
        {
          "output_type": "execute_result",
          "data": {
            "text/plain": [
              "Text(0, 0.5, 'winery')"
            ]
          },
          "metadata": {},
          "execution_count": 253
        },
        {
          "output_type": "display_data",
          "data": {
            "text/plain": [
              "<Figure size 640x480 with 1 Axes>"
            ],
            "image/png": "[encoded data removed]"
          },
          "metadata": {}
        }
      ]
    },
    {
      "cell_type": "code",
      "source": [
        "df['num_reviews'].hist()\n",
        "ax=df['num_reviews'].hist()\n",
        "ax=df['num_reviews'].hist(bins = 20, edgecolor = 'black')\n",
        "ax.set_title('Reveiws')\n",
        "ax. set_xlabel(\"num_reviews\", rotation = 90)\n",
        "ax.set_ylabel('num_reveiws')"
      ],
      "metadata": {
        "id": "Jw4p_gIVkdn6",
        "colab": {
          "base_uri": "https://localhost:8080/",
          "height": 566
        },
        "outputId": "2a38ae5b-60a7-4a7f-c6bd-d5cb8e05507b"
      },
      "execution_count": 254,
      "outputs": [
        {
          "output_type": "execute_result",
          "data": {
            "text/plain": [
              "Text(0, 0.5, 'num_reveiws')"
            ]
          },
          "metadata": {},
          "execution_count": 254
        },
        {
          "output_type": "display_data",
          "data": {
            "text/plain": [
              "<Figure size 640x480 with 1 Axes>"
            ],
            "image/png": "[encoded data removed]"
          },
          "metadata": {}
        }
      ]
    },
    {
      "cell_type": "code",
      "source": [
        "df['region'].hist()\n",
        "ax=df['region'].hist()\n",
        "ax=df['region'].hist(bins = 20, edgecolor = 'black')\n",
        "ax.set_title('Region')\n",
        "ax. set_xlabel(\"region\", rotation = 90)\n",
        "ax.set_ylabel('region')"
      ],
      "metadata": {
        "colab": {
          "base_uri": "https://localhost:8080/",
          "height": 519
        },
        "id": "mCvfPAEx2atm",
        "outputId": "e94f758d-e52f-4b19-cc21-b600fe9e8a01"
      },
      "execution_count": 255,
      "outputs": [
        {
          "output_type": "execute_result",
          "data": {
            "text/plain": [
              "Text(0, 0.5, 'region')"
            ]
          },
          "metadata": {},
          "execution_count": 255
        },
        {
          "output_type": "display_data",
          "data": {
            "text/plain": [
              "<Figure size 640x480 with 1 Axes>"
            ],
            "image/png": "[encoded data removed]"
          },
          "metadata": {}
        }
      ]
    },
    {
      "cell_type": "code",
      "source": [
        "df['price'].hist()\n",
        "ax=df['price'].hist()\n",
        "ax=df['price'].hist(bins = 20, edgecolor = 'black')\n",
        "ax.set_title('Price')\n",
        "ax. set_xlabel(\"price\", rotation = 90)\n",
        "ax.set_ylabel('price')"
      ],
      "metadata": {
        "colab": {
          "base_uri": "https://localhost:8080/",
          "height": 509
        },
        "id": "MUl3uq6R2pWV",
        "outputId": "67495f92-0305-421c-ed3c-f0a77e1c7daa"
      },
      "execution_count": 258,
      "outputs": [
        {
          "output_type": "execute_result",
          "data": {
            "text/plain": [
              "Text(0, 0.5, 'price')"
            ]
          },
          "metadata": {},
          "execution_count": 258
        },
        {
          "output_type": "display_data",
          "data": {
            "text/plain": [
              "<Figure size 640x480 with 1 Axes>"
            ],
            "image/png": "[encoded data removed]"
          },
          "metadata": {}
        }
      ]
    },
    {
      "cell_type": "code",
      "source": [
        "df['type'].hist()\n",
        "ax=df['type'].hist()\n",
        "ax=df['type'].hist(bins = 20, edgecolor = 'black')\n",
        "ax.set_title('Type')\n",
        "ax. set_xlabel(\"type\", rotation = 90)\n",
        "ax.set_ylabel('type')"
      ],
      "metadata": {
        "colab": {
          "base_uri": "https://localhost:8080/",
          "height": 506
        },
        "id": "rHC6FEZy25_B",
        "outputId": "9eea1250-9d0a-4713-b4df-99edcdf066cf"
      },
      "execution_count": 259,
      "outputs": [
        {
          "output_type": "execute_result",
          "data": {
            "text/plain": [
              "Text(0, 0.5, 'type')"
            ]
          },
          "metadata": {},
          "execution_count": 259
        },
        {
          "output_type": "display_data",
          "data": {
            "text/plain": [
              "<Figure size 640x480 with 1 Axes>"
            ],
            "image/png": "[encoded data removed]"
          },
          "metadata": {}
        }
      ]
    },
    {
      "cell_type": "code",
      "source": [
        "df['body'].hist()\n",
        "ax=df['body'].hist()\n",
        "ax=df['body'].hist(bins = 20, edgecolor = 'black')\n",
        "ax.set_title('Body')\n",
        "ax. set_xlabel(\"body\", rotation = 90)\n",
        "ax.set_ylabel('body')"
      ],
      "metadata": {
        "colab": {
          "base_uri": "https://localhost:8080/",
          "height": 509
        },
        "id": "n5I9L8Wz3HMg",
        "outputId": "3a56ce59-db02-44c3-a333-17a8ad95ebf5"
      },
      "execution_count": 260,
      "outputs": [
        {
          "output_type": "execute_result",
          "data": {
            "text/plain": [
              "Text(0, 0.5, 'body')"
            ]
          },
          "metadata": {},
          "execution_count": 260
        },
        {
          "output_type": "display_data",
          "data": {
            "text/plain": [
              "<Figure size 640x480 with 1 Axes>"
            ],
            "image/png": "[encoded data removed]"
          },
          "metadata": {}
        }
      ]
    },
    {
      "cell_type": "code",
      "source": [
        "df['acidity'].hist()\n",
        "ax=df['acidity'].hist()\n",
        "ax=df['acidity'].hist(bins = 20, edgecolor = 'black')\n",
        "ax.set_title('Acidity')\n",
        "ax. set_xlabel(\"acidity\", rotation = 90)\n",
        "ax.set_ylabel('acidity')"
      ],
      "metadata": {
        "colab": {
          "base_uri": "https://localhost:8080/",
          "height": 521
        },
        "id": "PGyTKqYS3Rvz",
        "outputId": "b81b2a3e-bbcf-4300-b07d-94df0b85721e"
      },
      "execution_count": 261,
      "outputs": [
        {
          "output_type": "execute_result",
          "data": {
            "text/plain": [
              "Text(0, 0.5, 'acidity')"
            ]
          },
          "metadata": {},
          "execution_count": 261
        },
        {
          "output_type": "display_data",
          "data": {
            "text/plain": [
              "<Figure size 640x480 with 1 Axes>"
            ],
            "image/png": "[encoded data removed]"
          },
          "metadata": {}
        }
      ]
    }
  ]
}