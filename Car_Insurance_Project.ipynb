{
  "nbformat": 4,
  "nbformat_minor": 0,
  "metadata": {
    "colab": {
      "provenance": [],
      "collapsed_sections": [
        "eBa67FHsk26D"
      ],
      "authorship_tag": "ABX9TyPowoqQ6m9VXOs7ATXJGkbw",
      "include_colab_link": true
    },
    "kernelspec": {
      "name": "python3",
      "display_name": "Python 3"
    },
    "language_info": {
      "name": "python"
    }
  },
  "cells": [
    {
      "cell_type": "markdown",
      "metadata": {
        "id": "view-in-github",
        "colab_type": "text"
      },
      "source": [
        "<a href=\"https://colab.research.google.com/github/HeatherAnnFoster/Spanish-Wine-Car-Insurance/blob/main/Car_Insurance_Project.ipynb\" target=\"_parent\"><img src=\"https://colab.research.google.com/assets/colab-badge.svg\" alt=\"Open In Colab\"/></a>"
      ]
    },
    {
      "cell_type": "markdown",
      "source": [
        "Create a notebook where you have uploaded and shown the .head() of each of your data sets. For each of the proposed datasets, include the following information in text cells:\n",
        "\n",
        "Second choice: dataset 2\n",
        "1. Source of data\n",
        "\n",
        "2. Brief description of data\n",
        "\n",
        "3. What is the target?\n",
        "\n",
        "4. What does one row represent? (A person?  A business?  An event? A product?)\n",
        "\n",
        "5. Is this a classification or regression problem?\n",
        "\n",
        "6. How many features does the data have?\n",
        "\n",
        "7. How many rows are in the dataset?\n",
        "\n",
        "8. What, if any, challenges do you foresee in cleaning, exploring, or modeling this dataset?"
      ],
      "metadata": {
        "id": "UF6UxuSmgqhR"
      }
    },
    {
      "cell_type": "code",
      "execution_count": 2,
      "metadata": {
        "colab": {
          "base_uri": "https://localhost:8080/",
          "height": 357
        },
        "id": "GfkocpatgolL",
        "outputId": "cd7803ff-9032-4549-9e3b-4a3d3454dd5d"
      },
      "outputs": [
        {
          "output_type": "execute_result",
          "data": {
            "text/plain": [
              "       ID    AGE  GENDER      RACE DRIVING_EXPERIENCE    EDUCATION  \\\n",
              "0  569520    65+  female  majority               0-9y  high school   \n",
              "1  750365  16-25    male  majority               0-9y         none   \n",
              "2  199901  16-25  female  majority               0-9y  high school   \n",
              "3  478866  16-25    male  majority               0-9y   university   \n",
              "4  731664  26-39    male  majority             10-19y         none   \n",
              "\n",
              "          INCOME  CREDIT_SCORE  VEHICLE_OWNERSHIP VEHICLE_YEAR  MARRIED  \\\n",
              "0    upper class      0.629027                  1   after 2015        0   \n",
              "1        poverty      0.357757                  0  before 2015        0   \n",
              "2  working class      0.493146                  1  before 2015        0   \n",
              "3  working class      0.206013                  1  before 2015        0   \n",
              "4  working class      0.388366                  1  before 2015        0   \n",
              "\n",
              "   CHILDREN  POSTAL_CODE  ANNUAL_MILEAGE VEHICLE_TYPE  SPEEDING_VIOLATIONS  \\\n",
              "0         1        10238         12000.0        sedan                    0   \n",
              "1         0        10238         16000.0        sedan                    0   \n",
              "2         0        10238         11000.0        sedan                    0   \n",
              "3         1        32765         11000.0        sedan                    0   \n",
              "4         0        32765         12000.0        sedan                    2   \n",
              "\n",
              "   DUIS  PAST_ACCIDENTS  OUTCOME  \n",
              "0     0               0        0  \n",
              "1     0               0        1  \n",
              "2     0               0        0  \n",
              "3     0               0        0  \n",
              "4     0               1        1  "
            ],
            "text/html": [
              "\n",
              "  <div id=\"df-b4d9273e-6f4f-4c4a-bb11-9ec3991b4a0f\">\n",
              "    <div class=\"colab-df-container\">\n",
              "      <div>\n",
              "<style scoped>\n",
              "    .dataframe tbody tr th:only-of-type {\n",
              "        vertical-align: middle;\n",
              "    }\n",
              "\n",
              "    .dataframe tbody tr th {\n",
              "        vertical-align: top;\n",
              "    }\n",
              "\n",
              "    .dataframe thead th {\n",
              "        text-align: right;\n",
              "    }\n",
              "</style>\n",
              "<table border=\"1\" class=\"dataframe\">\n",
              "  <thead>\n",
              "    <tr style=\"text-align: right;\">\n",
              "      <th></th>\n",
              "      <th>ID</th>\n",
              "      <th>AGE</th>\n",
              "      <th>GENDER</th>\n",
              "      <th>RACE</th>\n",
              "      <th>DRIVING_EXPERIENCE</th>\n",
              "      <th>EDUCATION</th>\n",
              "      <th>INCOME</th>\n",
              "      <th>CREDIT_SCORE</th>\n",
              "      <th>VEHICLE_OWNERSHIP</th>\n",
              "      <th>VEHICLE_YEAR</th>\n",
              "      <th>MARRIED</th>\n",
              "      <th>CHILDREN</th>\n",
              "      <th>POSTAL_CODE</th>\n",
              "      <th>ANNUAL_MILEAGE</th>\n",
              "      <th>VEHICLE_TYPE</th>\n",
              "      <th>SPEEDING_VIOLATIONS</th>\n",
              "      <th>DUIS</th>\n",
              "      <th>PAST_ACCIDENTS</th>\n",
              "      <th>OUTCOME</th>\n",
              "    </tr>\n",
              "  </thead>\n",
              "  <tbody>\n",
              "    <tr>\n",
              "      <th>0</th>\n",
              "      <td>569520</td>\n",
              "      <td>65+</td>\n",
              "      <td>female</td>\n",
              "      <td>majority</td>\n",
              "      <td>0-9y</td>\n",
              "      <td>high school</td>\n",
              "      <td>upper class</td>\n",
              "      <td>0.629027</td>\n",
              "      <td>1</td>\n",
              "      <td>after 2015</td>\n",
              "      <td>0</td>\n",
              "      <td>1</td>\n",
              "      <td>10238</td>\n",
              "      <td>12000.0</td>\n",
              "      <td>sedan</td>\n",
              "      <td>0</td>\n",
              "      <td>0</td>\n",
              "      <td>0</td>\n",
              "      <td>0</td>\n",
              "    </tr>\n",
              "    <tr>\n",
              "      <th>1</th>\n",
              "      <td>750365</td>\n",
              "      <td>16-25</td>\n",
              "      <td>male</td>\n",
              "      <td>majority</td>\n",
              "      <td>0-9y</td>\n",
              "      <td>none</td>\n",
              "      <td>poverty</td>\n",
              "      <td>0.357757</td>\n",
              "      <td>0</td>\n",
              "      <td>before 2015</td>\n",
              "      <td>0</td>\n",
              "      <td>0</td>\n",
              "      <td>10238</td>\n",
              "      <td>16000.0</td>\n",
              "      <td>sedan</td>\n",
              "      <td>0</td>\n",
              "      <td>0</td>\n",
              "      <td>0</td>\n",
              "      <td>1</td>\n",
              "    </tr>\n",
              "    <tr>\n",
              "      <th>2</th>\n",
              "      <td>199901</td>\n",
              "      <td>16-25</td>\n",
              "      <td>female</td>\n",
              "      <td>majority</td>\n",
              "      <td>0-9y</td>\n",
              "      <td>high school</td>\n",
              "      <td>working class</td>\n",
              "      <td>0.493146</td>\n",
              "      <td>1</td>\n",
              "      <td>before 2015</td>\n",
              "      <td>0</td>\n",
              "      <td>0</td>\n",
              "      <td>10238</td>\n",
              "      <td>11000.0</td>\n",
              "      <td>sedan</td>\n",
              "      <td>0</td>\n",
              "      <td>0</td>\n",
              "      <td>0</td>\n",
              "      <td>0</td>\n",
              "    </tr>\n",
              "    <tr>\n",
              "      <th>3</th>\n",
              "      <td>478866</td>\n",
              "      <td>16-25</td>\n",
              "      <td>male</td>\n",
              "      <td>majority</td>\n",
              "      <td>0-9y</td>\n",
              "      <td>university</td>\n",
              "      <td>working class</td>\n",
              "      <td>0.206013</td>\n",
              "      <td>1</td>\n",
              "      <td>before 2015</td>\n",
              "      <td>0</td>\n",
              "      <td>1</td>\n",
              "      <td>32765</td>\n",
              "      <td>11000.0</td>\n",
              "      <td>sedan</td>\n",
              "      <td>0</td>\n",
              "      <td>0</td>\n",
              "      <td>0</td>\n",
              "      <td>0</td>\n",
              "    </tr>\n",
              "    <tr>\n",
              "      <th>4</th>\n",
              "      <td>731664</td>\n",
              "      <td>26-39</td>\n",
              "      <td>male</td>\n",
              "      <td>majority</td>\n",
              "      <td>10-19y</td>\n",
              "      <td>none</td>\n",
              "      <td>working class</td>\n",
              "      <td>0.388366</td>\n",
              "      <td>1</td>\n",
              "      <td>before 2015</td>\n",
              "      <td>0</td>\n",
              "      <td>0</td>\n",
              "      <td>32765</td>\n",
              "      <td>12000.0</td>\n",
              "      <td>sedan</td>\n",
              "      <td>2</td>\n",
              "      <td>0</td>\n",
              "      <td>1</td>\n",
              "      <td>1</td>\n",
              "    </tr>\n",
              "  </tbody>\n",
              "</table>\n",
              "</div>\n",
              "      <button class=\"colab-df-convert\" onclick=\"convertToInteractive('df-b4d9273e-6f4f-4c4a-bb11-9ec3991b4a0f')\"\n",
              "              title=\"Convert this dataframe to an interactive table.\"\n",
              "              style=\"display:none;\">\n",
              "        \n",
              "  <svg xmlns=\"http://www.w3.org/2000/svg\" height=\"24px\"viewBox=\"0 0 24 24\"\n",
              "       width=\"24px\">\n",
              "    <path d=\"M0 0h24v24H0V0z\" fill=\"none\"/>\n",
              "    <path d=\"M18.56 5.44l.94 2.06.94-2.06 2.06-.94-2.06-.94-.94-2.06-.94 2.06-2.06.94zm-11 1L8.5 8.5l.94-2.06 2.06-.94-2.06-.94L8.5 2.5l-.94 2.06-2.06.94zm10 10l.94 2.06.94-2.06 2.06-.94-2.06-.94-.94-2.06-.94 2.06-2.06.94z\"/><path d=\"M17.41 7.96l-1.37-1.37c-.4-.4-.92-.59-1.43-.59-.52 0-1.04.2-1.43.59L10.3 9.45l-7.72 7.72c-.78.78-.78 2.05 0 2.83L4 21.41c.39.39.9.59 1.41.59.51 0 1.02-.2 1.41-.59l7.78-7.78 2.81-2.81c.8-.78.8-2.07 0-2.86zM5.41 20L4 18.59l7.72-7.72 1.47 1.35L5.41 20z\"/>\n",
              "  </svg>\n",
              "      </button>\n",
              "      \n",
              "  <style>\n",
              "    .colab-df-container {\n",
              "      display:flex;\n",
              "      flex-wrap:wrap;\n",
              "      gap: 12px;\n",
              "    }\n",
              "\n",
              "    .colab-df-convert {\n",
              "      background-color: #E8F0FE;\n",
              "      border: none;\n",
              "      border-radius: 50%;\n",
              "      cursor: pointer;\n",
              "      display: none;\n",
              "      fill: #1967D2;\n",
              "      height: 32px;\n",
              "      padding: 0 0 0 0;\n",
              "      width: 32px;\n",
              "    }\n",
              "\n",
              "    .colab-df-convert:hover {\n",
              "      background-color: #E2EBFA;\n",
              "      box-shadow: 0px 1px 2px rgba(60, 64, 67, 0.3), 0px 1px 3px 1px rgba(60, 64, 67, 0.15);\n",
              "      fill: #174EA6;\n",
              "    }\n",
              "\n",
              "    [theme=dark] .colab-df-convert {\n",
              "      background-color: #3B4455;\n",
              "      fill: #D2E3FC;\n",
              "    }\n",
              "\n",
              "    [theme=dark] .colab-df-convert:hover {\n",
              "      background-color: #434B5C;\n",
              "      box-shadow: 0px 1px 3px 1px rgba(0, 0, 0, 0.15);\n",
              "      filter: drop-shadow(0px 1px 2px rgba(0, 0, 0, 0.3));\n",
              "      fill: #FFFFFF;\n",
              "    }\n",
              "  </style>\n",
              "\n",
              "      <script>\n",
              "        const buttonEl =\n",
              "          document.querySelector('#df-b4d9273e-6f4f-4c4a-bb11-9ec3991b4a0f button.colab-df-convert');\n",
              "        buttonEl.style.display =\n",
              "          google.colab.kernel.accessAllowed ? 'block' : 'none';\n",
              "\n",
              "        async function convertToInteractive(key) {\n",
              "          const element = document.querySelector('#df-b4d9273e-6f4f-4c4a-bb11-9ec3991b4a0f');\n",
              "          const dataTable =\n",
              "            await google.colab.kernel.invokeFunction('convertToInteractive',\n",
              "                                                     [key], {});\n",
              "          if (!dataTable) return;\n",
              "\n",
              "          const docLinkHtml = 'Like what you see? Visit the ' +\n",
              "            '<a target=\"_blank\" href=https://colab.research.google.com/notebooks/data_table.ipynb>data table notebook</a>'\n",
              "            + ' to learn more about interactive tables.';\n",
              "          element.innerHTML = '';\n",
              "          dataTable['output_type'] = 'display_data';\n",
              "          await google.colab.output.renderOutput(dataTable, element);\n",
              "          const docLink = document.createElement('div');\n",
              "          docLink.innerHTML = docLinkHtml;\n",
              "          element.appendChild(docLink);\n",
              "        }\n",
              "      </script>\n",
              "    </div>\n",
              "  </div>\n",
              "  "
            ]
          },
          "metadata": {},
          "execution_count": 2
        }
      ],
      "source": [
        "import pandas as pd\n",
        "df = pd.read_excel('/content/Project 2B.xlsx')\n",
        "df.head()"
      ]
    },
    {
      "cell_type": "markdown",
      "source": [
        "#**Source of Data**"
      ],
      "metadata": {
        "id": "eBa67FHsk26D"
      }
    },
    {
      "cell_type": "markdown",
      "source": [
        "Kaggle.com"
      ],
      "metadata": {
        "id": "-LO8hvoflmjZ"
      }
    },
    {
      "cell_type": "markdown",
      "source": [
        "#**Brief Description of the Data**"
      ],
      "metadata": {
        "id": "K6zMgzO3j-Iv"
      }
    },
    {
      "cell_type": "markdown",
      "source": [
        "Context\n",
        "\n",
        "The company has shared its annual car insurance data. Now, you have to find out the real customer behaviors over the data.\n",
        "\n",
        "Content\n",
        "\n",
        "The columns are resembling practical world features. The outcome column indicates 1 if a customer has claimed his/her loan else 0. The data has 19 features from there 18 of them are corresponding logs which were taken by the company."
      ],
      "metadata": {
        "id": "78jfodxMlQXb"
      }
    },
    {
      "cell_type": "markdown",
      "source": [
        "#**Target**"
      ],
      "metadata": {
        "id": "fXfNY2c6lHhR"
      }
    },
    {
      "cell_type": "markdown",
      "source": [
        "The target is whether the customer claimed their loan or not.  If they made a claim, there is a 1 in the \"Outcome\" column.  If they didn't make a claim, there is a 0 in the \"Outcome\" column."
      ],
      "metadata": {
        "id": "zgTSQ9gvlG-t"
      }
    },
    {
      "cell_type": "markdown",
      "source": [
        "#**What does one row represent? (A person? A business? An event? A product?)**"
      ],
      "metadata": {
        "id": "PBCPjdXjmVpx"
      }
    },
    {
      "cell_type": "markdown",
      "source": [
        "The ID, Age, Gender, Race, Married, and Children columns all represent a person.  The Driving Experience, Speeding Violations, DUI, and Past Accidents columns all represent the customer's responsibility while driving the vehicle.  The Income and Credit Score columns represent the fincancial ability of the customer.  The Vehicle Year, Postal Code, Annual Milage, and Vehicle Type represnt the vehicle and the number of miles the vehicle is driven."
      ],
      "metadata": {
        "id": "rKnuDzmBnsk2"
      }
    },
    {
      "cell_type": "markdown",
      "source": [
        "#**Is this a classification or regression problem?**"
      ],
      "metadata": {
        "id": "ExAaX4-bppi2"
      }
    },
    {
      "cell_type": "markdown",
      "source": [
        "Because the target is from the Outcomes column, it is a nomimal column.  The values are 0 and 1, meaning no and yes.  For this column, I would use OneHotEncoder while I am analyzing this dataset.  It is classification model."
      ],
      "metadata": {
        "id": "y6zBnGxFqTNC"
      }
    },
    {
      "cell_type": "markdown",
      "source": [
        "#**How many features does the data have?**"
      ],
      "metadata": {
        "id": "0tf0e4umqr4_"
      }
    },
    {
      "cell_type": "markdown",
      "source": [
        "There are 19 features."
      ],
      "metadata": {
        "id": "sBRzEwnHqx_m"
      }
    },
    {
      "cell_type": "code",
      "source": [
        "df.shape"
      ],
      "metadata": {
        "colab": {
          "base_uri": "https://localhost:8080/"
        },
        "id": "veHvuz8puk5s",
        "outputId": "910db3c0-3920-47fd-8c17-e729eaebe942"
      },
      "execution_count": 4,
      "outputs": [
        {
          "output_type": "execute_result",
          "data": {
            "text/plain": [
              "(10000, 19)"
            ]
          },
          "metadata": {},
          "execution_count": 4
        }
      ]
    },
    {
      "cell_type": "markdown",
      "source": [
        "#**How many rows are in the dataset?**"
      ],
      "metadata": {
        "id": "hDhSlDPfutL1"
      }
    },
    {
      "cell_type": "markdown",
      "source": [
        "There are 10,000 rows."
      ],
      "metadata": {
        "id": "WGmNhc5ku5FO"
      }
    },
    {
      "cell_type": "markdown",
      "source": [
        "#**What, if any, challenges do you foresee in cleaning, exploring, or modeling this dataset?**"
      ],
      "metadata": {
        "id": "YurJA1VZu76t"
      }
    },
    {
      "cell_type": "markdown",
      "source": [
        "I foresee duplicates, missing data and needing multiple preprocessors for various models on different columns.  I also think I will have multiple visualizations to see and show what different columns would look like when compared to others.  This might help determine what I need to tune later."
      ],
      "metadata": {
        "id": "TqH2tVIMvGrU"
      }
    }
  ]
}